{
 "cells": [
  {
   "cell_type": "code",
   "execution_count": 2,
   "metadata": {},
   "outputs": [
    {
     "data": {
      "text/html": [
       "<div>\n",
       "<style scoped>\n",
       "    .dataframe tbody tr th:only-of-type {\n",
       "        vertical-align: middle;\n",
       "    }\n",
       "\n",
       "    .dataframe tbody tr th {\n",
       "        vertical-align: top;\n",
       "    }\n",
       "\n",
       "    .dataframe thead th {\n",
       "        text-align: right;\n",
       "    }\n",
       "</style>\n",
       "<table border=\"1\" class=\"dataframe\">\n",
       "  <thead>\n",
       "    <tr style=\"text-align: right;\">\n",
       "      <th></th>\n",
       "      <th>County</th>\n",
       "      <th>State</th>\n",
       "      <th>lat</th>\n",
       "      <th>lng</th>\n",
       "    </tr>\n",
       "  </thead>\n",
       "  <tbody>\n",
       "    <tr>\n",
       "      <th>0</th>\n",
       "      <td>Corozal Municipio</td>\n",
       "      <td>Puerto Rico</td>\n",
       "      <td>18.341062</td>\n",
       "      <td>-66.316836</td>\n",
       "    </tr>\n",
       "    <tr>\n",
       "      <th>1</th>\n",
       "      <td>Maunabo Municipio</td>\n",
       "      <td>Puerto Rico</td>\n",
       "      <td>18.007189</td>\n",
       "      <td>-65.899329</td>\n",
       "    </tr>\n",
       "    <tr>\n",
       "      <th>2</th>\n",
       "      <td>PeÃ±uelas Municipio</td>\n",
       "      <td>Puerto Rico</td>\n",
       "      <td>18.063358</td>\n",
       "      <td>-66.727390</td>\n",
       "    </tr>\n",
       "    <tr>\n",
       "      <th>3</th>\n",
       "      <td>Ponce Municipio</td>\n",
       "      <td>Puerto Rico</td>\n",
       "      <td>18.011077</td>\n",
       "      <td>-66.614062</td>\n",
       "    </tr>\n",
       "    <tr>\n",
       "      <th>4</th>\n",
       "      <td>San SebastiÃ¡n Municipio</td>\n",
       "      <td>Puerto Rico</td>\n",
       "      <td>18.335476</td>\n",
       "      <td>-66.994679</td>\n",
       "    </tr>\n",
       "  </tbody>\n",
       "</table>\n",
       "</div>"
      ],
      "text/plain": [
       "                     County         State        lat        lng\n",
       "0         Corozal Municipio   Puerto Rico  18.341062 -66.316836\n",
       "1         Maunabo Municipio   Puerto Rico  18.007189 -65.899329\n",
       "2       PeÃ±uelas Municipio   Puerto Rico  18.063358 -66.727390\n",
       "3           Ponce Municipio   Puerto Rico  18.011077 -66.614062\n",
       "4  San SebastiÃ¡n Municipio   Puerto Rico  18.335476 -66.994679"
      ]
     },
     "execution_count": 2,
     "metadata": {},
     "output_type": "execute_result"
    }
   ],
   "source": [
    "import pandas as pd\n",
    "import numpy as np\n",
    "\n",
    "file = 'county_coordinates.csv'\n",
    "\n",
    "df = pd.read_csv(file, encoding=\"ISO-8859-1\")\n",
    "\n",
    "# df.style.format({\n",
    "#     'lat': '{:,.2f}'.format,\n",
    "#     'lng': '{:,.2f}'.format,})\n",
    "\n",
    "df.head()"
   ]
  },
  {
   "cell_type": "code",
   "execution_count": 6,
   "metadata": {},
   "outputs": [
    {
     "data": {
      "text/html": [
       "<div>\n",
       "<style scoped>\n",
       "    .dataframe tbody tr th:only-of-type {\n",
       "        vertical-align: middle;\n",
       "    }\n",
       "\n",
       "    .dataframe tbody tr th {\n",
       "        vertical-align: top;\n",
       "    }\n",
       "\n",
       "    .dataframe thead th {\n",
       "        text-align: right;\n",
       "    }\n",
       "</style>\n",
       "<table border=\"1\" class=\"dataframe\">\n",
       "  <thead>\n",
       "    <tr style=\"text-align: right;\">\n",
       "      <th></th>\n",
       "      <th>County</th>\n",
       "      <th>State</th>\n",
       "      <th>lat</th>\n",
       "      <th>lng</th>\n",
       "    </tr>\n",
       "  </thead>\n",
       "  <tbody>\n",
       "    <tr>\n",
       "      <th>0</th>\n",
       "      <td>Corozal Municipio</td>\n",
       "      <td>Puerto Rico</td>\n",
       "      <td>18.34</td>\n",
       "      <td>-66.32</td>\n",
       "    </tr>\n",
       "    <tr>\n",
       "      <th>1</th>\n",
       "      <td>Maunabo Municipio</td>\n",
       "      <td>Puerto Rico</td>\n",
       "      <td>18.01</td>\n",
       "      <td>-65.90</td>\n",
       "    </tr>\n",
       "    <tr>\n",
       "      <th>2</th>\n",
       "      <td>PeÃ±uelas Municipio</td>\n",
       "      <td>Puerto Rico</td>\n",
       "      <td>18.06</td>\n",
       "      <td>-66.73</td>\n",
       "    </tr>\n",
       "    <tr>\n",
       "      <th>3</th>\n",
       "      <td>Ponce Municipio</td>\n",
       "      <td>Puerto Rico</td>\n",
       "      <td>18.01</td>\n",
       "      <td>-66.61</td>\n",
       "    </tr>\n",
       "    <tr>\n",
       "      <th>4</th>\n",
       "      <td>San SebastiÃ¡n Municipio</td>\n",
       "      <td>Puerto Rico</td>\n",
       "      <td>18.34</td>\n",
       "      <td>-66.99</td>\n",
       "    </tr>\n",
       "  </tbody>\n",
       "</table>\n",
       "</div>"
      ],
      "text/plain": [
       "                     County         State    lat    lng\n",
       "0         Corozal Municipio   Puerto Rico  18.34 -66.32\n",
       "1         Maunabo Municipio   Puerto Rico  18.01 -65.90\n",
       "2       PeÃ±uelas Municipio   Puerto Rico  18.06 -66.73\n",
       "3           Ponce Municipio   Puerto Rico  18.01 -66.61\n",
       "4  San SebastiÃ¡n Municipio   Puerto Rico  18.34 -66.99"
      ]
     },
     "execution_count": 6,
     "metadata": {},
     "output_type": "execute_result"
    }
   ],
   "source": [
    "decimals = 2\n",
    "df['lat'] = df['lat'].apply(lambda x: round(x, decimals))\n",
    "\n",
    "df['lng'] = df['lng'].apply(lambda x: round(x, decimals))\n",
    "\n",
    "df.head()"
   ]
  },
  {
   "cell_type": "code",
   "execution_count": 5,
   "metadata": {},
   "outputs": [],
   "source": [
    "df.to_csv('county_coordinates_edits.csv')"
   ]
  },
  {
   "cell_type": "code",
   "execution_count": null,
   "metadata": {},
   "outputs": [],
   "source": []
  }
 ],
 "metadata": {
  "kernelspec": {
   "display_name": "Python 3",
   "language": "python",
   "name": "python3"
  },
  "language_info": {
   "codemirror_mode": {
    "name": "ipython",
    "version": 3
   },
   "file_extension": ".py",
   "mimetype": "text/x-python",
   "name": "python",
   "nbconvert_exporter": "python",
   "pygments_lexer": "ipython3",
   "version": "3.7.1"
  }
 },
 "nbformat": 4,
 "nbformat_minor": 2
}
