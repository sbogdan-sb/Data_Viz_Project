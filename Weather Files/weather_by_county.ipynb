{
 "cells": [
  {
   "cell_type": "code",
   "execution_count": 1,
   "metadata": {},
   "outputs": [
    {
     "name": "stdout",
     "output_type": "stream",
     "text": [
      "Requirement already satisfied: openweathermapy in c:\\users\\brian\\anaconda3\\lib\\site-packages (0.6.6)\n"
     ]
    }
   ],
   "source": [
    "!pip install openweathermapy"
   ]
  },
  {
   "cell_type": "code",
   "execution_count": 2,
   "metadata": {},
   "outputs": [],
   "source": [
    "#API Documenation: https://openweathermap.org/history#geo"
   ]
  },
  {
   "cell_type": "code",
   "execution_count": 3,
   "metadata": {},
   "outputs": [],
   "source": [
    "import csv\n",
    "import matplotlib.pyplot as plt\n",
    "import openweathermapy as ow\n",
    "import pandas as pd\n",
    "import numpy as np\n",
    "import requests\n",
    "import time\n",
    "from api_keys import api_key\n",
    "\n"
   ]
  },
  {
   "cell_type": "code",
   "execution_count": 4,
   "metadata": {},
   "outputs": [
    {
     "data": {
      "text/html": [
       "<div>\n",
       "<style scoped>\n",
       "    .dataframe tbody tr th:only-of-type {\n",
       "        vertical-align: middle;\n",
       "    }\n",
       "\n",
       "    .dataframe tbody tr th {\n",
       "        vertical-align: top;\n",
       "    }\n",
       "\n",
       "    .dataframe thead th {\n",
       "        text-align: right;\n",
       "    }\n",
       "</style>\n",
       "<table border=\"1\" class=\"dataframe\">\n",
       "  <thead>\n",
       "    <tr style=\"text-align: right;\">\n",
       "      <th></th>\n",
       "      <th>Unnamed: 0</th>\n",
       "      <th>County</th>\n",
       "      <th>State</th>\n",
       "      <th>lat</th>\n",
       "      <th>lng</th>\n",
       "    </tr>\n",
       "  </thead>\n",
       "  <tbody>\n",
       "    <tr>\n",
       "      <th>0</th>\n",
       "      <td>0</td>\n",
       "      <td>Corozal Municipio</td>\n",
       "      <td>Puerto Rico</td>\n",
       "      <td>18.34</td>\n",
       "      <td>-66.32</td>\n",
       "    </tr>\n",
       "    <tr>\n",
       "      <th>1</th>\n",
       "      <td>1</td>\n",
       "      <td>Maunabo Municipio</td>\n",
       "      <td>Puerto Rico</td>\n",
       "      <td>18.01</td>\n",
       "      <td>-65.90</td>\n",
       "    </tr>\n",
       "    <tr>\n",
       "      <th>2</th>\n",
       "      <td>2</td>\n",
       "      <td>PeÃ±uelas Municipio</td>\n",
       "      <td>Puerto Rico</td>\n",
       "      <td>18.06</td>\n",
       "      <td>-66.73</td>\n",
       "    </tr>\n",
       "    <tr>\n",
       "      <th>3</th>\n",
       "      <td>3</td>\n",
       "      <td>Ponce Municipio</td>\n",
       "      <td>Puerto Rico</td>\n",
       "      <td>18.01</td>\n",
       "      <td>-66.61</td>\n",
       "    </tr>\n",
       "    <tr>\n",
       "      <th>4</th>\n",
       "      <td>4</td>\n",
       "      <td>San SebastiÃ¡n Municipio</td>\n",
       "      <td>Puerto Rico</td>\n",
       "      <td>18.34</td>\n",
       "      <td>-66.99</td>\n",
       "    </tr>\n",
       "  </tbody>\n",
       "</table>\n",
       "</div>"
      ],
      "text/plain": [
       "   Unnamed: 0                    County         State    lat    lng\n",
       "0           0         Corozal Municipio   Puerto Rico  18.34 -66.32\n",
       "1           1         Maunabo Municipio   Puerto Rico  18.01 -65.90\n",
       "2           2       PeÃ±uelas Municipio   Puerto Rico  18.06 -66.73\n",
       "3           3           Ponce Municipio   Puerto Rico  18.01 -66.61\n",
       "4           4  San SebastiÃ¡n Municipio   Puerto Rico  18.34 -66.99"
      ]
     },
     "execution_count": 4,
     "metadata": {},
     "output_type": "execute_result"
    }
   ],
   "source": [
    "county_df = pd.read_csv(\"county_coordinates_edits.csv\")\n",
    "county_df.head()"
   ]
  },
  {
   "cell_type": "code",
   "execution_count": 5,
   "metadata": {},
   "outputs": [],
   "source": [
    "county_latitude = []\n",
    "with open(\"county_coordinates_edits.csv\") as county_file:\n",
    "    county_reader = csv.reader(county_file)\n",
    "    county_latitude = [lat[3] for lat in county_reader]\n"
   ]
  },
  {
   "cell_type": "code",
   "execution_count": 6,
   "metadata": {},
   "outputs": [],
   "source": [
    "# county_longitude = []\n",
    "# with open(\"county_coordinates_edits.csv\") as county_file:\n",
    "#     county_reader = csv.reader(county_file)\n",
    "#     county_longitude = [lng[4] for lat in county_reader]"
   ]
  },
  {
   "cell_type": "code",
   "execution_count": 7,
   "metadata": {},
   "outputs": [],
   "source": [
    "   #\"http://api.openweathermap.org/data/2.5/weather?lat={lat}&lon={lon}\"\n",
    "base_url = \"http://api.openweathermap.org/data/2.5/weather?units=Imperial&appid=\" + api_key\n"
   ]
  },
  {
   "cell_type": "code",
   "execution_count": null,
   "metadata": {},
   "outputs": [],
   "source": [
    "temperature = []\n",
    "\n",
    "counter = 1\n",
    "\n",
    "for latitude in county_latitude:\n",
    "    \n",
    "    try:\n",
    "        response = requests.get(f\"{base_url}&q={latitude}\").json()\n",
    "        temperature.append(response[\"main\"][\"temp_max\"])\n",
    "        \n",
    "        counter = counter + 1\n",
    "    \n",
    "    except:\n",
    "        print(\"Latitude not found. Skipping...\")\n",
    "        continue\n",
    "        "
   ]
  },
  {
   "cell_type": "code",
   "execution_count": null,
   "metadata": {},
   "outputs": [],
   "source": [
    "response"
   ]
  },
  {
   "cell_type": "code",
   "execution_count": null,
   "metadata": {},
   "outputs": [],
   "source": []
  }
 ],
 "metadata": {
  "kernelspec": {
   "display_name": "Python 3",
   "language": "python",
   "name": "python3"
  },
  "language_info": {
   "codemirror_mode": {
    "name": "ipython",
    "version": 3
   },
   "file_extension": ".py",
   "mimetype": "text/x-python",
   "name": "python",
   "nbconvert_exporter": "python",
   "pygments_lexer": "ipython3",
   "version": "3.7.1"
  }
 },
 "nbformat": 4,
 "nbformat_minor": 2
}
