{
 "cells": [
  {
   "cell_type": "code",
   "execution_count": 1,
   "metadata": {},
   "outputs": [],
   "source": [
    "from census import Census\n",
    "from config import (census1_api_key, census2_api_key, weather_api_key, gkey)\n",
    "import pandas as pd\n",
    "import requests\n",
    "import json\n",
    "import matplotlib.pyplot as plt\n",
    "import os\n",
    "from us_state_abbrev import us_state_abbrev\n",
    "import numpy as np\n",
    "from census import Census\n",
    "import gmaps\n",
    "import csv\n",
    "import matplotlib.pyplot as plt\n",
    "import openweathermapy as ow\n",
    "import time\n",
    "import random"
   ]
  },
  {
   "cell_type": "markdown",
   "metadata": {},
   "source": [
    "# Collect and prep homeless data from US Census bureau\n"
   ]
  },
  {
   "cell_type": "code",
   "execution_count": 2,
   "metadata": {},
   "outputs": [
    {
     "data": {
      "text/html": [
       "<div>\n",
       "<style scoped>\n",
       "    .dataframe tbody tr th:only-of-type {\n",
       "        vertical-align: middle;\n",
       "    }\n",
       "\n",
       "    .dataframe tbody tr th {\n",
       "        vertical-align: top;\n",
       "    }\n",
       "\n",
       "    .dataframe thead th {\n",
       "        text-align: right;\n",
       "    }\n",
       "</style>\n",
       "<table border=\"1\" class=\"dataframe\">\n",
       "  <thead>\n",
       "    <tr style=\"text-align: right;\">\n",
       "      <th></th>\n",
       "      <th>County</th>\n",
       "      <th>State</th>\n",
       "      <th>Homeless Pop</th>\n",
       "    </tr>\n",
       "  </thead>\n",
       "  <tbody>\n",
       "    <tr>\n",
       "      <th>1</th>\n",
       "      <td>Autauga County</td>\n",
       "      <td>Alabama</td>\n",
       "      <td>0</td>\n",
       "    </tr>\n",
       "    <tr>\n",
       "      <th>2</th>\n",
       "      <td>Bibb County</td>\n",
       "      <td>Alabama</td>\n",
       "      <td>0</td>\n",
       "    </tr>\n",
       "    <tr>\n",
       "      <th>3</th>\n",
       "      <td>Chambers County</td>\n",
       "      <td>Alabama</td>\n",
       "      <td>0</td>\n",
       "    </tr>\n",
       "    <tr>\n",
       "      <th>4</th>\n",
       "      <td>Cherokee County</td>\n",
       "      <td>Alabama</td>\n",
       "      <td>0</td>\n",
       "    </tr>\n",
       "    <tr>\n",
       "      <th>5</th>\n",
       "      <td>Clarke County</td>\n",
       "      <td>Alabama</td>\n",
       "      <td>0</td>\n",
       "    </tr>\n",
       "  </tbody>\n",
       "</table>\n",
       "</div>"
      ],
      "text/plain": [
       "0           County     State  Homeless Pop\n",
       "1   Autauga County   Alabama             0\n",
       "2      Bibb County   Alabama             0\n",
       "3  Chambers County   Alabama             0\n",
       "4  Cherokee County   Alabama             0\n",
       "5    Clarke County   Alabama             0"
      ]
     },
     "execution_count": 2,
     "metadata": {},
     "output_type": "execute_result"
    }
   ],
   "source": [
    "url = \"https://api.census.gov/data/2010/dec/sf1?get=PCT020B027,PCT020D027,PCT020E027,PCT021093,PCT021061,PCT021029,PCT021190,PCT021126,PCT021158,PCT020H027,PCT020A027,PCT020I027,PCT020C027,PCT020027,PCT020F027,PCT020G027,NAME&for=county:*&key=\" + census1_api_key\n",
    "response = requests.get(url)\n",
    "response_json = response.json()\n",
    "\n",
    "census_pd = pd.DataFrame(response_json)\n",
    "\n",
    "census_pd.columns = census_pd.iloc[0]\n",
    "census_pd = census_pd[1:]\n",
    "\n",
    "census_pd[\"County\"] = census_pd[\"NAME\"].str.split(pat=\",\", expand=True)[0]\n",
    "census_pd[\"State\"] = census_pd[\"NAME\"].str.split(pat=\",\", expand=True)[1]\n",
    "\n",
    "del census_pd[\"state\"]\n",
    "del census_pd[\"county\"]\n",
    "del census_pd[\"NAME\"]\n",
    "\n",
    "#Get list of population columns\n",
    "cols = census_pd.columns.drop([\"County\",\"State\"])\n",
    "\n",
    "#Convert population columns to numeric\n",
    "census_pd[cols] = census_pd[cols].apply(pd.to_numeric)\n",
    "\n",
    "#Sum poplulation columns to one column\n",
    "census_pd[\"Homeless Pop\"] = census_pd.sum(axis=1)\n",
    "\n",
    "#Select desired columns to final homeless dataframe \n",
    "homeless_data = census_pd[[\"County\", \"State\", \"Homeless Pop\"]]\n",
    "\n",
    "homeless_data.head()"
   ]
  },
  {
   "cell_type": "markdown",
   "metadata": {},
   "source": [
    "# Prep home value data from csv file downloaded from Zillow"
   ]
  },
  {
   "cell_type": "code",
   "execution_count": 3,
   "metadata": {},
   "outputs": [
    {
     "data": {
      "text/html": [
       "<div>\n",
       "<style scoped>\n",
       "    .dataframe tbody tr th:only-of-type {\n",
       "        vertical-align: middle;\n",
       "    }\n",
       "\n",
       "    .dataframe tbody tr th {\n",
       "        vertical-align: top;\n",
       "    }\n",
       "\n",
       "    .dataframe thead th {\n",
       "        text-align: right;\n",
       "    }\n",
       "</style>\n",
       "<table border=\"1\" class=\"dataframe\">\n",
       "  <thead>\n",
       "    <tr style=\"text-align: right;\">\n",
       "      <th></th>\n",
       "      <th>County</th>\n",
       "      <th>State</th>\n",
       "      <th>Price_2018</th>\n",
       "    </tr>\n",
       "  </thead>\n",
       "  <tbody>\n",
       "    <tr>\n",
       "      <th>0</th>\n",
       "      <td>Los Angeles County</td>\n",
       "      <td>California</td>\n",
       "      <td>595599.999948</td>\n",
       "    </tr>\n",
       "    <tr>\n",
       "      <th>1</th>\n",
       "      <td>Cook County</td>\n",
       "      <td>Illinois</td>\n",
       "      <td>216799.999961</td>\n",
       "    </tr>\n",
       "    <tr>\n",
       "      <th>2</th>\n",
       "      <td>Harris County</td>\n",
       "      <td>Texas</td>\n",
       "      <td>178300.000006</td>\n",
       "    </tr>\n",
       "    <tr>\n",
       "      <th>3</th>\n",
       "      <td>Maricopa County</td>\n",
       "      <td>Arizona</td>\n",
       "      <td>253099.999972</td>\n",
       "    </tr>\n",
       "    <tr>\n",
       "      <th>4</th>\n",
       "      <td>San Diego County</td>\n",
       "      <td>California</td>\n",
       "      <td>572099.999973</td>\n",
       "    </tr>\n",
       "  </tbody>\n",
       "</table>\n",
       "</div>"
      ],
      "text/plain": [
       "               County       State     Price_2018\n",
       "0  Los Angeles County  California  595599.999948\n",
       "1         Cook County    Illinois  216799.999961\n",
       "2       Harris County       Texas  178300.000006\n",
       "3     Maricopa County     Arizona  253099.999972\n",
       "4    San Diego County  California  572099.999973"
      ]
     },
     "execution_count": 3,
     "metadata": {},
     "output_type": "execute_result"
    }
   ],
   "source": [
    "# Real Estate Data\n",
    "\n",
    "re_prices=pd.read_csv(\"County_Zhvi_Summary_AllHomes.csv\",encoding=\"ISO-8859-1\")\n",
    "re_prices\n",
    "\n",
    "states = {\n",
    "        'AK': 'Alaska',\n",
    "        'AL': 'Alabama',\n",
    "        'AR': 'Arkansas',\n",
    "        'AS': 'American Samoa',\n",
    "        'AZ': 'Arizona',\n",
    "        'CA': 'California',\n",
    "        'CO': 'Colorado',\n",
    "        'CT': 'Connecticut',\n",
    "        'DC': 'District of Columbia',\n",
    "        'DE': 'Delaware',\n",
    "        'FL': 'Florida',\n",
    "        'GA': 'Georgia',\n",
    "        'GU': 'Guam',\n",
    "        'HI': 'Hawaii',\n",
    "        'IA': 'Iowa',\n",
    "        'ID': 'Idaho',\n",
    "        'IL': 'Illinois',\n",
    "        'IN': 'Indiana',\n",
    "        'KS': 'Kansas',\n",
    "        'KY': 'Kentucky',\n",
    "        'LA': 'Louisiana',\n",
    "        'MA': 'Massachusetts',\n",
    "        'MD': 'Maryland',\n",
    "        'ME': 'Maine',\n",
    "        'MI': 'Michigan',\n",
    "        'MN': 'Minnesota',\n",
    "        'MO': 'Missouri',\n",
    "        'MP': 'Northern Mariana Islands',\n",
    "        'MS': 'Mississippi',\n",
    "        'MT': 'Montana',\n",
    "        'NA': 'National',\n",
    "        'NC': 'North Carolina',\n",
    "        'ND': 'North Dakota',\n",
    "        'NE': 'Nebraska',\n",
    "        'NH': 'New Hampshire',\n",
    "        'NJ': 'New Jersey',\n",
    "        'NM': 'New Mexico',\n",
    "        'NV': 'Nevada',\n",
    "        'NY': 'New York',\n",
    "        'OH': 'Ohio',\n",
    "        'OK': 'Oklahoma',\n",
    "        'OR': 'Oregon',\n",
    "        'PA': 'Pennsylvania',\n",
    "        'PR': 'Puerto Rico',\n",
    "        'RI': 'Rhode Island',\n",
    "        'SC': 'South Carolina',\n",
    "        'SD': 'South Dakota',\n",
    "        'TN': 'Tennessee',\n",
    "        'TX': 'Texas',\n",
    "        'UT': 'Utah',\n",
    "        'VA': 'Virginia',\n",
    "        'VI': 'Virgin Islands',\n",
    "        'VT': 'Vermont',\n",
    "        'WA': 'Washington',\n",
    "        'WI': 'Wisconsin',\n",
    "        'WV': 'West Virginia',\n",
    "        'WY': 'Wyoming'\n",
    "}\n",
    "\n",
    "state_expanded=[]\n",
    "state_abbreviated=[]\n",
    "\n",
    "for key in states.keys():\n",
    "    state_expanded.append(states[key])\n",
    "    state_abbreviated.append(key)\n",
    "    \n",
    "    \n",
    "state=pd.DataFrame({\"state_a\":state_abbreviated,\"state_e\":state_expanded})\n",
    "\n",
    "re_prices_2=pd.merge(re_prices,state,left_on=\"State\",right_on=\"state_a\",how=\"left\")\n",
    "\n",
    "re_prices_2=re_prices_2.loc[:,[\"RegionName\",\"state_e\",\"Zhvi\",\"YoY\"]]\n",
    "\n",
    "re_prices_2.loc[:,\"Price_2018\"]=re_prices_2[\"Zhvi\"]/(1+re_prices[\"YoY\"])\n",
    "\n",
    "re_prices_2=re_prices_2.rename(columns={\"RegionName\":\"County\",\"state_e\":\"State\"})\n",
    "\n",
    "re_prices_2=re_prices_2.iloc[:,[0,1,4]]\n",
    "\n",
    "re_prices_2.to_csv(\"Price_by_County.csv\")\n",
    "\n",
    "re_prices_2.head()"
   ]
  },
  {
   "cell_type": "markdown",
   "metadata": {},
   "source": [
    "# Collect and prep poverty data from Census Bureau"
   ]
  },
  {
   "cell_type": "code",
   "execution_count": 4,
   "metadata": {},
   "outputs": [],
   "source": [
    "#Poverty Data\n",
    "\n",
    "# Configure gmaps\n",
    "gmaps.configure(api_key=gkey)\n"
   ]
  },
  {
   "cell_type": "code",
   "execution_count": 5,
   "metadata": {},
   "outputs": [
    {
     "data": {
      "text/plain": [
       "'https://api.census.gov/data/2017/acs/acs5?get=NAME,B01003_001E&B17001_002E&for=county:*&key=e4802ddb92bf7b297f5f10de4176b9d5341c10c8'"
      ]
     },
     "execution_count": 5,
     "metadata": {},
     "output_type": "execute_result"
    }
   ],
   "source": [
    "name = \"?get=NAME,\"\n",
    "population = \"B01003_001E\"\n",
    "poverty_count = \"B17001_002E\"\n",
    "county = \"for=county:*\"\n",
    "\n",
    "base_url = \"https://api.census.gov/data/2017/acs/acs5\"\n",
    "query_url = base_url + name + population + \"&\" + poverty_count + \"&\" + county + \"&key=\" + census2_api_key\n",
    "query_url"
   ]
  },
  {
   "cell_type": "code",
   "execution_count": 6,
   "metadata": {},
   "outputs": [],
   "source": [
    "census_response = requests.get(query_url)\n",
    "census_response = census_response.json()\n",
    "\n",
    "# Convert to DataFrame\n",
    "poverty_data = pd.DataFrame(census_response)\n",
    "\n",
    "#replace header with row 1\n",
    "new_header = poverty_data.iloc[0] #grab the first row for the header\n",
    "poverty_data = poverty_data[1:] #take the data less the header row\n",
    "poverty_data.columns = new_header #set the header row as the df header\n",
    "\n",
    "# Column Reordering\n",
    "poverty_data = poverty_data.rename(columns={\"B01003_001E\": \"Population\",\n",
    "                                            \"B17001_002E\": \"Poverty Count\",\n",
    "                                            \"NAME\": \"Name\", \n",
    "                                            \"state\": \"State\",\n",
    "                                            \"county\":\"County\"})\n",
    "\n",
    "# Add in Poverty Rate (Poverty Count / Population)\n",
    "poverty_data[\"Poverty Rate\"] = 100 * poverty_data[\"Poverty Count\"].astype(int) / poverty_data[\"Population\"].astype(int)\n"
   ]
  },
  {
   "cell_type": "code",
   "execution_count": 7,
   "metadata": {},
   "outputs": [
    {
     "data": {
      "text/html": [
       "<div>\n",
       "<style scoped>\n",
       "    .dataframe tbody tr th:only-of-type {\n",
       "        vertical-align: middle;\n",
       "    }\n",
       "\n",
       "    .dataframe tbody tr th {\n",
       "        vertical-align: top;\n",
       "    }\n",
       "\n",
       "    .dataframe thead th {\n",
       "        text-align: right;\n",
       "    }\n",
       "</style>\n",
       "<table border=\"1\" class=\"dataframe\">\n",
       "  <thead>\n",
       "    <tr style=\"text-align: right;\">\n",
       "      <th></th>\n",
       "      <th>County</th>\n",
       "      <th>State</th>\n",
       "      <th>Population</th>\n",
       "      <th>Poverty Rate</th>\n",
       "    </tr>\n",
       "  </thead>\n",
       "  <tbody>\n",
       "    <tr>\n",
       "      <th>1</th>\n",
       "      <td>Corozal Municipio</td>\n",
       "      <td>Puerto Rico</td>\n",
       "      <td>34933</td>\n",
       "      <td>54.807775</td>\n",
       "    </tr>\n",
       "    <tr>\n",
       "      <th>2</th>\n",
       "      <td>Maunabo Municipio</td>\n",
       "      <td>Puerto Rico</td>\n",
       "      <td>11297</td>\n",
       "      <td>52.624591</td>\n",
       "    </tr>\n",
       "    <tr>\n",
       "      <th>3</th>\n",
       "      <td>Peñuelas Municipio</td>\n",
       "      <td>Puerto Rico</td>\n",
       "      <td>21661</td>\n",
       "      <td>57.148793</td>\n",
       "    </tr>\n",
       "    <tr>\n",
       "      <th>4</th>\n",
       "      <td>Ponce Municipio</td>\n",
       "      <td>Puerto Rico</td>\n",
       "      <td>148863</td>\n",
       "      <td>50.507514</td>\n",
       "    </tr>\n",
       "    <tr>\n",
       "      <th>5</th>\n",
       "      <td>San Sebastián Municipio</td>\n",
       "      <td>Puerto Rico</td>\n",
       "      <td>38970</td>\n",
       "      <td>55.098794</td>\n",
       "    </tr>\n",
       "  </tbody>\n",
       "</table>\n",
       "</div>"
      ],
      "text/plain": [
       "0                   County         State Population  Poverty Rate\n",
       "1        Corozal Municipio   Puerto Rico      34933     54.807775\n",
       "2        Maunabo Municipio   Puerto Rico      11297     52.624591\n",
       "3       Peñuelas Municipio   Puerto Rico      21661     57.148793\n",
       "4          Ponce Municipio   Puerto Rico     148863     50.507514\n",
       "5  San Sebastián Municipio   Puerto Rico      38970     55.098794"
      ]
     },
     "execution_count": 7,
     "metadata": {},
     "output_type": "execute_result"
    }
   ],
   "source": [
    "poverty_data[\"County\"] = poverty_data[\"Name\"].str.split(pat=\",\", expand=True)[0]\n",
    "poverty_data[\"State\"] = poverty_data[\"Name\"].str.split(pat=\",\", expand=True)[1]\n",
    "# Parse Final DataFrame\n",
    "poverty_data = poverty_data[[\"County\",\"State\",\"Population\",\"Poverty Rate\"]]\n",
    "poverty_data.head()"
   ]
  },
  {
   "cell_type": "markdown",
   "metadata": {},
   "source": [
    "# Collect and prep weather data"
   ]
  },
  {
   "cell_type": "code",
   "execution_count": 9,
   "metadata": {},
   "outputs": [
    {
     "data": {
      "text/html": [
       "<div>\n",
       "<style scoped>\n",
       "    .dataframe tbody tr th:only-of-type {\n",
       "        vertical-align: middle;\n",
       "    }\n",
       "\n",
       "    .dataframe tbody tr th {\n",
       "        vertical-align: top;\n",
       "    }\n",
       "\n",
       "    .dataframe thead th {\n",
       "        text-align: right;\n",
       "    }\n",
       "</style>\n",
       "<table border=\"1\" class=\"dataframe\">\n",
       "  <thead>\n",
       "    <tr style=\"text-align: right;\">\n",
       "      <th></th>\n",
       "      <th>County</th>\n",
       "      <th>State</th>\n",
       "      <th>Temp</th>\n",
       "    </tr>\n",
       "  </thead>\n",
       "  <tbody>\n",
       "    <tr>\n",
       "      <th>0</th>\n",
       "      <td>Corozal Municipio</td>\n",
       "      <td>Puerto Rico</td>\n",
       "      <td>82.99</td>\n",
       "    </tr>\n",
       "    <tr>\n",
       "      <th>1</th>\n",
       "      <td>Maunabo Municipio</td>\n",
       "      <td>Puerto Rico</td>\n",
       "      <td>82.99</td>\n",
       "    </tr>\n",
       "    <tr>\n",
       "      <th>2</th>\n",
       "      <td>Peñuelas Municipio</td>\n",
       "      <td>Puerto Rico</td>\n",
       "      <td>82.99</td>\n",
       "    </tr>\n",
       "    <tr>\n",
       "      <th>3</th>\n",
       "      <td>Ponce Municipio</td>\n",
       "      <td>Puerto Rico</td>\n",
       "      <td>82.99</td>\n",
       "    </tr>\n",
       "    <tr>\n",
       "      <th>4</th>\n",
       "      <td>San Sebastián Municipio</td>\n",
       "      <td>Puerto Rico</td>\n",
       "      <td>81</td>\n",
       "    </tr>\n",
       "  </tbody>\n",
       "</table>\n",
       "</div>"
      ],
      "text/plain": [
       "                    County         State   Temp\n",
       "0        Corozal Municipio   Puerto Rico  82.99\n",
       "1        Maunabo Municipio   Puerto Rico  82.99\n",
       "2       Peñuelas Municipio   Puerto Rico  82.99\n",
       "3          Ponce Municipio   Puerto Rico  82.99\n",
       "4  San Sebastián Municipio   Puerto Rico     81"
      ]
     },
     "execution_count": 9,
     "metadata": {},
     "output_type": "execute_result"
    }
   ],
   "source": [
    "county_df = pd.read_csv(\"Weather Files/county_coordinates_edits.csv\")\n",
    "\n",
    "county_df[\"Temp\"] = \"\"\n",
    "\n",
    "for i, row in county_df.iterrows():\n",
    "    \n",
    "    lat = row[\"lat\"]\n",
    "    lon = row[\"lng\"]\n",
    "    \n",
    "    try:\n",
    "        response = requests.get(f\"http://api.openweathermap.org/data/2.5/weather?units=Imperial&lat={lat}&lon={lon}&appid={weather_api_key}\").json()\n",
    "\n",
    "        county_df.loc[i,\"Temp\"] = response[\"main\"][\"temp_max\"]\n",
    "       \n",
    "    except:\n",
    "        print(\"Location not found. Skipping...\")\n",
    "        continue\n",
    "\n",
    "temp_data_df = county_df[[\"County\", \"State\", \"Temp\"]]\n",
    "temp_data_df.head()\n"
   ]
  },
  {
   "cell_type": "markdown",
   "metadata": {},
   "source": [
    "# Merge data sets"
   ]
  },
  {
   "cell_type": "code",
   "execution_count": 10,
   "metadata": {
    "scrolled": true
   },
   "outputs": [
    {
     "name": "stderr",
     "output_type": "stream",
     "text": [
      "C:\\Users\\david\\anaconda\\Anaconda3\\lib\\site-packages\\ipykernel_launcher.py:3: SettingWithCopyWarning: \n",
      "A value is trying to be set on a copy of a slice from a DataFrame.\n",
      "Try using .loc[row_indexer,col_indexer] = value instead\n",
      "\n",
      "See the caveats in the documentation: http://pandas.pydata.org/pandas-docs/stable/indexing.html#indexing-view-versus-copy\n",
      "  This is separate from the ipykernel package so we can avoid doing imports until\n",
      "C:\\Users\\david\\anaconda\\Anaconda3\\lib\\site-packages\\ipykernel_launcher.py:4: SettingWithCopyWarning: \n",
      "A value is trying to be set on a copy of a slice from a DataFrame.\n",
      "Try using .loc[row_indexer,col_indexer] = value instead\n",
      "\n",
      "See the caveats in the documentation: http://pandas.pydata.org/pandas-docs/stable/indexing.html#indexing-view-versus-copy\n",
      "  after removing the cwd from sys.path.\n",
      "C:\\Users\\david\\anaconda\\Anaconda3\\lib\\site-packages\\ipykernel_launcher.py:12: SettingWithCopyWarning: \n",
      "A value is trying to be set on a copy of a slice from a DataFrame.\n",
      "Try using .loc[row_indexer,col_indexer] = value instead\n",
      "\n",
      "See the caveats in the documentation: http://pandas.pydata.org/pandas-docs/stable/indexing.html#indexing-view-versus-copy\n",
      "  if sys.path[0] == '':\n",
      "C:\\Users\\david\\anaconda\\Anaconda3\\lib\\site-packages\\ipykernel_launcher.py:13: SettingWithCopyWarning: \n",
      "A value is trying to be set on a copy of a slice from a DataFrame.\n",
      "Try using .loc[row_indexer,col_indexer] = value instead\n",
      "\n",
      "See the caveats in the documentation: http://pandas.pydata.org/pandas-docs/stable/indexing.html#indexing-view-versus-copy\n",
      "  del sys.path[0]\n"
     ]
    },
    {
     "data": {
      "text/html": [
       "<div>\n",
       "<style scoped>\n",
       "    .dataframe tbody tr th:only-of-type {\n",
       "        vertical-align: middle;\n",
       "    }\n",
       "\n",
       "    .dataframe tbody tr th {\n",
       "        vertical-align: top;\n",
       "    }\n",
       "\n",
       "    .dataframe thead th {\n",
       "        text-align: right;\n",
       "    }\n",
       "</style>\n",
       "<table border=\"1\" class=\"dataframe\">\n",
       "  <thead>\n",
       "    <tr style=\"text-align: right;\">\n",
       "      <th></th>\n",
       "      <th>County</th>\n",
       "      <th>State</th>\n",
       "      <th>Homeless Pop</th>\n",
       "      <th>Population</th>\n",
       "      <th>Poverty Rate</th>\n",
       "      <th>Price_2018</th>\n",
       "      <th>Temp</th>\n",
       "      <th>Homeless Rate</th>\n",
       "    </tr>\n",
       "  </thead>\n",
       "  <tbody>\n",
       "    <tr>\n",
       "      <th>0</th>\n",
       "      <td>autauga county</td>\n",
       "      <td>alabama</td>\n",
       "      <td>0.0</td>\n",
       "      <td>55036.0</td>\n",
       "      <td>13.596555</td>\n",
       "      <td>144599.999971</td>\n",
       "      <td>39</td>\n",
       "      <td>0.000000</td>\n",
       "    </tr>\n",
       "    <tr>\n",
       "      <th>1</th>\n",
       "      <td>cherokee county</td>\n",
       "      <td>alabama</td>\n",
       "      <td>0.0</td>\n",
       "      <td>25855.0</td>\n",
       "      <td>15.873139</td>\n",
       "      <td>102899.999979</td>\n",
       "      <td>37.4</td>\n",
       "      <td>0.000000</td>\n",
       "    </tr>\n",
       "    <tr>\n",
       "      <th>2</th>\n",
       "      <td>blount county</td>\n",
       "      <td>alabama</td>\n",
       "      <td>0.0</td>\n",
       "      <td>57667.0</td>\n",
       "      <td>15.466385</td>\n",
       "      <td>132499.999941</td>\n",
       "      <td>44.01</td>\n",
       "      <td>0.000000</td>\n",
       "    </tr>\n",
       "    <tr>\n",
       "      <th>3</th>\n",
       "      <td>chilton county</td>\n",
       "      <td>alabama</td>\n",
       "      <td>0.0</td>\n",
       "      <td>43805.0</td>\n",
       "      <td>19.157630</td>\n",
       "      <td>114299.999990</td>\n",
       "      <td>32</td>\n",
       "      <td>0.000000</td>\n",
       "    </tr>\n",
       "    <tr>\n",
       "      <th>4</th>\n",
       "      <td>coffee county</td>\n",
       "      <td>alabama</td>\n",
       "      <td>64.0</td>\n",
       "      <td>51073.0</td>\n",
       "      <td>15.902727</td>\n",
       "      <td>109500.000045</td>\n",
       "      <td>66</td>\n",
       "      <td>0.001253</td>\n",
       "    </tr>\n",
       "  </tbody>\n",
       "</table>\n",
       "</div>"
      ],
      "text/plain": [
       "            County    State  Homeless Pop  Population  Poverty Rate  \\\n",
       "0   autauga county  alabama           0.0     55036.0     13.596555   \n",
       "1  cherokee county  alabama           0.0     25855.0     15.873139   \n",
       "2    blount county  alabama           0.0     57667.0     15.466385   \n",
       "3   chilton county  alabama           0.0     43805.0     19.157630   \n",
       "4    coffee county  alabama          64.0     51073.0     15.902727   \n",
       "\n",
       "      Price_2018   Temp  Homeless Rate  \n",
       "0  144599.999971     39       0.000000  \n",
       "1  102899.999979   37.4       0.000000  \n",
       "2  132499.999941  44.01       0.000000  \n",
       "3  114299.999990     32       0.000000  \n",
       "4  109500.000045     66       0.001253  "
      ]
     },
     "execution_count": 10,
     "metadata": {},
     "output_type": "execute_result"
    }
   ],
   "source": [
    "#Merging Homeless and Poverty data\n",
    "\n",
    "homeless_data[\"County\"] = homeless_data[\"County\"].map(lambda x: x.lower())\n",
    "homeless_data[\"State\"] = homeless_data[\"State\"].map(lambda x: x.lower())\n",
    "\n",
    "poverty_data[\"County\"] = poverty_data[\"County\"].map(lambda x: x.lower())\n",
    "poverty_data[\"State\"] = poverty_data[\"State\"].map(lambda x: x.lower())\n",
    "\n",
    "re_prices_2[\"County\"] = re_prices_2[\"County\"].map(lambda x: x.lower())\n",
    "re_prices_2[\"State\"] = re_prices_2[\"State\"].map(lambda x: x.lower())\n",
    "\n",
    "temp_data_df[\"County\"] = re_prices_2[\"County\"].map(lambda x: x.lower())\n",
    "temp_data_df[\"State\"] = re_prices_2[\"State\"].map(lambda x: x.lower())\n",
    "\n",
    "\n",
    "\n",
    "\n",
    "combined_data = homeless_data.merge(poverty_data, on = [\"County\", \"State\"], how = \"left\")\n",
    "\n",
    "combined_data[\"State\"] = combined_data['State'].str.strip()\n",
    "\n",
    "combined_data = combined_data.merge(re_prices_2, how = \"right\")\n",
    "\n",
    "combined_data = combined_data.merge(temp_data_df, how = \"left\")\n",
    "\n",
    "combined_data[\"Population\"] = combined_data[\"Population\"].apply(pd.to_numeric)\n",
    "combined_data[\"Homeless Rate\"] = combined_data[\"Homeless Pop\"] /combined_data[\"Population\"]\n",
    "\n",
    "\n",
    "\n",
    "combined_data.head()"
   ]
  },
  {
   "cell_type": "markdown",
   "metadata": {},
   "source": [
    "# David's Section: Plots"
   ]
  },
  {
   "cell_type": "code",
   "execution_count": 11,
   "metadata": {},
   "outputs": [],
   "source": [
    "from scipy.stats import (pearsonr,spearmanr)\n",
    "from statsmodels.formula.api import ols\n",
    "from statsmodels.stats.anova import anova_lm"
   ]
  },
  {
   "cell_type": "code",
   "execution_count": 22,
   "metadata": {},
   "outputs": [],
   "source": [
    "plot_data=combined_data.dropna()"
   ]
  },
  {
   "cell_type": "code",
   "execution_count": 23,
   "metadata": {},
   "outputs": [],
   "source": [
    "plot_data=plot_data.loc[plot_data[\"Homeless Rate\"]>0,:]\n"
   ]
  },
  {
   "cell_type": "code",
   "execution_count": 24,
   "metadata": {},
   "outputs": [
    {
     "data": {
      "text/plain": [
       "(971, 8)"
      ]
     },
     "execution_count": 24,
     "metadata": {},
     "output_type": "execute_result"
    }
   ],
   "source": [
    "plot_data.shape"
   ]
  },
  {
   "cell_type": "code",
   "execution_count": 25,
   "metadata": {},
   "outputs": [
    {
     "name": "stdout",
     "output_type": "stream",
     "text": [
      "Poverty versus Homelessness\n",
      "Spearman correlation coefficient: 0.18; Probability of not equalling zero: 1.0\n",
      "Pearson correlation coefficient: 0.17; Probability of not equalling zero: 1.0\n"
     ]
    },
    {
     "data": {
      "text/plain": [
       "Text(0,0.5,'Homeless Rate')"
      ]
     },
     "execution_count": 25,
     "metadata": {},
     "output_type": "execute_result"
    },
    {
     "data": {
      "image/png": "[encoded data removed]",
      "text/plain": [
       "<Figure size 432x288 with 1 Axes>"
      ]
     },
     "metadata": {
      "needs_background": "light"
     },
     "output_type": "display_data"
    }
   ],
   "source": [
    "s_corr, s_p =spearmanr(plot_data[\"Poverty Rate\"],plot_data[\"Homeless Rate\"])\n",
    "p_corr, p_p =pearsonr(plot_data[\"Poverty Rate\"],plot_data[\"Homeless Rate\"])\n",
    "print(\"Poverty versus Homelessness\")\n",
    "print(f\"Spearman correlation coefficient: {round(s_corr,2)}; Probability of not equalling zero: {round(1-s_p,2)}\")\n",
    "print(f\"Pearson correlation coefficient: {round(p_corr,2)}; Probability of not equalling zero: {round(1-p_p,2)}\")\n",
    "plt.scatter(plot_data[\"Poverty Rate\"],plot_data[\"Homeless Rate\"],  marker=\"o\", \n",
    "            facecolors=\"gold\", edgecolors=\"black\", alpha=.5, linewidths=1)\n",
    "#plot title, axes labels\n",
    "plt.title(\"Homeless Rate versus Poverty Rate\")\n",
    "plt.xlabel(\"Poverty Rate\")\n",
    "plt.ylabel(\"Homeless Rate\")\n"
   ]
  },
  {
   "cell_type": "code",
   "execution_count": 26,
   "metadata": {},
   "outputs": [
    {
     "name": "stdout",
     "output_type": "stream",
     "text": [
      "Homelessness versus Temperature\n",
      "Spearman correlation coefficient: 0.05; Probability of not equalling zero: 0.87\n",
      "Pearson correlation coefficient: 0.06; Probability of not equalling zero: 0.92\n"
     ]
    },
    {
     "data": {
      "text/plain": [
       "Text(0,0.5,'Homeless Rate')"
      ]
     },
     "execution_count": 26,
     "metadata": {},
     "output_type": "execute_result"
    },
    {
     "data": {
      "image/png": "[encoded data removed]",
      "text/plain": [
       "<Figure size 432x288 with 1 Axes>"
      ]
     },
     "metadata": {
      "needs_background": "light"
     },
     "output_type": "display_data"
    }
   ],
   "source": [
    "s_corr, s_p =spearmanr(plot_data[\"Temp\"],plot_data[\"Homeless Rate\"])\n",
    "p_corr, p_p =pearsonr(plot_data[\"Temp\"],plot_data[\"Homeless Rate\"])\n",
    "print(\"Homelessness versus Temperature\")\n",
    "print(f\"Spearman correlation coefficient: {round(s_corr,2)}; Probability of not equalling zero: {round(1-s_p,2)}\")\n",
    "print(f\"Pearson correlation coefficient: {round(p_corr,2)}; Probability of not equalling zero: {round(1-p_p,2)}\")\n",
    "plt.scatter(plot_data[\"Temp\"],plot_data[\"Homeless Rate\"],  marker=\"o\", \n",
    "            facecolors=\"gold\", edgecolors=\"black\", alpha=.5, linewidths=1)\n",
    "#plot title, axes labels\n",
    "plt.title(\"Homeless Rate versus Temperature\")\n",
    "plt.xlabel(\"Temperature in Fahrenheit\")\n",
    "plt.ylabel(\"Homeless Rate\")"
   ]
  },
  {
   "cell_type": "code",
   "execution_count": 27,
   "metadata": {},
   "outputs": [
    {
     "name": "stdout",
     "output_type": "stream",
     "text": [
      "Homelessness versus House Prices\n",
      "Spearman correlation coefficient: 0.09; Probability of not equalling zero: 0.99\n",
      "Pearson correlation coefficient: 0.23; Probability of not equalling zero: 1.0\n"
     ]
    },
    {
     "data": {
      "text/plain": [
       "Text(0,0.5,'Homeless Rate')"
      ]
     },
     "execution_count": 27,
     "metadata": {},
     "output_type": "execute_result"
    },
    {
     "data": {
      "image/png": "[encoded data removed]",
      "text/plain": [
       "<Figure size 432x288 with 1 Axes>"
      ]
     },
     "metadata": {
      "needs_background": "light"
     },
     "output_type": "display_data"
    }
   ],
   "source": [
    "s_corr, s_p =spearmanr(plot_data[\"Price_2018\"],plot_data[\"Homeless Rate\"])\n",
    "p_corr, p_p =pearsonr(plot_data[\"Price_2018\"],plot_data[\"Homeless Rate\"])\n",
    "print(\"Homelessness versus House Prices\")\n",
    "print(f\"Spearman correlation coefficient: {round(s_corr,2)}; Probability of not equalling zero: {round(1-s_p,2)}\")\n",
    "print(f\"Pearson correlation coefficient: {round(p_corr,2)}; Probability of not equalling zero: {round(1-p_p,2)}\")\n",
    "plt.scatter(plot_data[\"Homeless Rate\"],plot_data[\"Price_2018\"],  marker=\"o\", \n",
    "            facecolors=\"gold\", edgecolors=\"black\", alpha=.5, linewidths=1)\n",
    "#plot title, axes labels\n",
    "plt.title(\"Homeless Rate versus House Prices\")\n",
    "plt.xlabel(\"House Prices\")\n",
    "plt.ylabel(\"Homeless Rate\")"
   ]
  },
  {
   "cell_type": "markdown",
   "metadata": {},
   "source": [
    "# David's Section Ends"
   ]
  }
 ],
 "metadata": {
  "kernelspec": {
   "display_name": "Python 3",
   "language": "python",
   "name": "python3"
  },
  "language_info": {
   "codemirror_mode": {
    "name": "ipython",
    "version": 3
   },
   "file_extension": ".py",
   "mimetype": "text/x-python",
   "name": "python",
   "nbconvert_exporter": "python",
   "pygments_lexer": "ipython3",
   "version": "3.7.1"
  }
 },
 "nbformat": 4,
 "nbformat_minor": 2
}
