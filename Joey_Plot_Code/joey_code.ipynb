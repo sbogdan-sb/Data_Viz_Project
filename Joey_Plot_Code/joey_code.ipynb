{
 "cells": [
  {
   "cell_type": "markdown",
   "metadata": {},
   "source": [
    "# Poverty Rates for Cities Over 1M\n",
    "- Joey Ashcroft Code Portion to be merged to master"
   ]
  },
  {
   "cell_type": "code",
   "execution_count": 1,
   "metadata": {},
   "outputs": [],
   "source": [
    "# Dependencies\n",
    "import numpy as np\n",
    "import pandas as pd\n",
    "import matplotlib.pyplot as plt\n",
    "import requests\n",
    "from census import Census\n",
    "import gmaps\n",
    "import json\n",
    "import os"
   ]
  },
  {
   "cell_type": "code",
   "execution_count": 3,
   "metadata": {},
   "outputs": [],
   "source": [
    "# Census & gmaps API Keys\n",
    "from config import (api_key, gkey)\n",
    "\n",
    "# Configure gmaps\n",
    "gmaps.configure(api_key=gkey)"
   ]
  },
  {
   "cell_type": "code",
   "execution_count": 4,
   "metadata": {},
   "outputs": [
    {
     "data": {
      "text/html": [
       "<div>\n",
       "<style scoped>\n",
       "    .dataframe tbody tr th:only-of-type {\n",
       "        vertical-align: middle;\n",
       "    }\n",
       "\n",
       "    .dataframe tbody tr th {\n",
       "        vertical-align: top;\n",
       "    }\n",
       "\n",
       "    .dataframe thead th {\n",
       "        text-align: right;\n",
       "    }\n",
       "</style>\n",
       "<table border=\"1\" class=\"dataframe\">\n",
       "  <thead>\n",
       "    <tr style=\"text-align: right;\">\n",
       "      <th></th>\n",
       "      <th>County</th>\n",
       "      <th>State</th>\n",
       "      <th>lat</th>\n",
       "      <th>lng</th>\n",
       "    </tr>\n",
       "  </thead>\n",
       "  <tbody>\n",
       "    <tr>\n",
       "      <th>0</th>\n",
       "      <td>Corozal Municipio</td>\n",
       "      <td>Puerto Rico</td>\n",
       "      <td>18.341062</td>\n",
       "      <td>-66.316836</td>\n",
       "    </tr>\n",
       "    <tr>\n",
       "      <th>1</th>\n",
       "      <td>Maunabo Municipio</td>\n",
       "      <td>Puerto Rico</td>\n",
       "      <td>18.007189</td>\n",
       "      <td>-65.899329</td>\n",
       "    </tr>\n",
       "    <tr>\n",
       "      <th>2</th>\n",
       "      <td>Peñuelas Municipio</td>\n",
       "      <td>Puerto Rico</td>\n",
       "      <td>18.063358</td>\n",
       "      <td>-66.727390</td>\n",
       "    </tr>\n",
       "    <tr>\n",
       "      <th>3</th>\n",
       "      <td>Ponce Municipio</td>\n",
       "      <td>Puerto Rico</td>\n",
       "      <td>18.011077</td>\n",
       "      <td>-66.614062</td>\n",
       "    </tr>\n",
       "    <tr>\n",
       "      <th>4</th>\n",
       "      <td>San Sebastián Municipio</td>\n",
       "      <td>Puerto Rico</td>\n",
       "      <td>18.335476</td>\n",
       "      <td>-66.994679</td>\n",
       "    </tr>\n",
       "  </tbody>\n",
       "</table>\n",
       "</div>"
      ],
      "text/plain": [
       "                    County         State        lat        lng\n",
       "0        Corozal Municipio   Puerto Rico  18.341062 -66.316836\n",
       "1        Maunabo Municipio   Puerto Rico  18.007189 -65.899329\n",
       "2       Peñuelas Municipio   Puerto Rico  18.063358 -66.727390\n",
       "3          Ponce Municipio   Puerto Rico  18.011077 -66.614062\n",
       "4  San Sebastián Municipio   Puerto Rico  18.335476 -66.994679"
      ]
     },
     "execution_count": 4,
     "metadata": {},
     "output_type": "execute_result"
    }
   ],
   "source": [
    "#read in data (for master)\n",
    "county_coordinates = pd.read_csv('county_coordinates.csv')\n",
    "county_coordinates.head()"
   ]
  },
  {
   "cell_type": "code",
   "execution_count": 5,
   "metadata": {},
   "outputs": [
    {
     "data": {
      "text/plain": [
       "'https://api.census.gov/data/2017/acs/acs5?get=NAME,B01003_001E&B17001_002E&for=county:*&key=e4802ddb92bf7b297f5f10de4176b9d5341c10c8'"
      ]
     },
     "execution_count": 5,
     "metadata": {},
     "output_type": "execute_result"
    }
   ],
   "source": [
    "name = \"?get=NAME,\"\n",
    "population = \"B01003_001E\"\n",
    "poverty_count = \"B17001_002E\"\n",
    "county = \"for=county:*\"\n",
    "\n",
    "base_url = \"https://api.census.gov/data/2017/acs/acs5\"\n",
    "query_url = base_url + name + population + \"&\" + poverty_count + \"&\" + county + \"&key=\" + api_key\n",
    "query_url"
   ]
  },
  {
   "cell_type": "code",
   "execution_count": 6,
   "metadata": {},
   "outputs": [
    {
     "data": {
      "text/html": [
       "<div>\n",
       "<style scoped>\n",
       "    .dataframe tbody tr th:only-of-type {\n",
       "        vertical-align: middle;\n",
       "    }\n",
       "\n",
       "    .dataframe tbody tr th {\n",
       "        vertical-align: top;\n",
       "    }\n",
       "\n",
       "    .dataframe thead th {\n",
       "        text-align: right;\n",
       "    }\n",
       "</style>\n",
       "<table border=\"1\" class=\"dataframe\">\n",
       "  <thead>\n",
       "    <tr style=\"text-align: right;\">\n",
       "      <th></th>\n",
       "      <th>Name</th>\n",
       "      <th>Population</th>\n",
       "      <th>Poverty Count</th>\n",
       "      <th>State</th>\n",
       "      <th>County</th>\n",
       "      <th>Poverty Rate</th>\n",
       "    </tr>\n",
       "  </thead>\n",
       "  <tbody>\n",
       "    <tr>\n",
       "      <th>1</th>\n",
       "      <td>Corozal Municipio, Puerto Rico</td>\n",
       "      <td>34933</td>\n",
       "      <td>19146</td>\n",
       "      <td>72</td>\n",
       "      <td>047</td>\n",
       "      <td>54.807775</td>\n",
       "    </tr>\n",
       "    <tr>\n",
       "      <th>2</th>\n",
       "      <td>Maunabo Municipio, Puerto Rico</td>\n",
       "      <td>11297</td>\n",
       "      <td>5945</td>\n",
       "      <td>72</td>\n",
       "      <td>095</td>\n",
       "      <td>52.624591</td>\n",
       "    </tr>\n",
       "    <tr>\n",
       "      <th>3</th>\n",
       "      <td>Peñuelas Municipio, Puerto Rico</td>\n",
       "      <td>21661</td>\n",
       "      <td>12379</td>\n",
       "      <td>72</td>\n",
       "      <td>111</td>\n",
       "      <td>57.148793</td>\n",
       "    </tr>\n",
       "    <tr>\n",
       "      <th>4</th>\n",
       "      <td>Ponce Municipio, Puerto Rico</td>\n",
       "      <td>148863</td>\n",
       "      <td>75187</td>\n",
       "      <td>72</td>\n",
       "      <td>113</td>\n",
       "      <td>50.507514</td>\n",
       "    </tr>\n",
       "    <tr>\n",
       "      <th>5</th>\n",
       "      <td>San Sebastián Municipio, Puerto Rico</td>\n",
       "      <td>38970</td>\n",
       "      <td>21472</td>\n",
       "      <td>72</td>\n",
       "      <td>131</td>\n",
       "      <td>55.098794</td>\n",
       "    </tr>\n",
       "  </tbody>\n",
       "</table>\n",
       "</div>"
      ],
      "text/plain": [
       "0                                  Name Population Poverty Count State County  \\\n",
       "1        Corozal Municipio, Puerto Rico      34933         19146    72    047   \n",
       "2        Maunabo Municipio, Puerto Rico      11297          5945    72    095   \n",
       "3       Peñuelas Municipio, Puerto Rico      21661         12379    72    111   \n",
       "4          Ponce Municipio, Puerto Rico     148863         75187    72    113   \n",
       "5  San Sebastián Municipio, Puerto Rico      38970         21472    72    131   \n",
       "\n",
       "0  Poverty Rate  \n",
       "1     54.807775  \n",
       "2     52.624591  \n",
       "3     57.148793  \n",
       "4     50.507514  \n",
       "5     55.098794  "
      ]
     },
     "execution_count": 6,
     "metadata": {},
     "output_type": "execute_result"
    }
   ],
   "source": [
    "census_response = requests.get(query_url)\n",
    "census_response = census_response.json()\n",
    "\n",
    "# Convert to DataFrame\n",
    "poverty_data = pd.DataFrame(census_response)\n",
    "\n",
    "#replace header with row 1\n",
    "new_header = poverty_data.iloc[0] #grab the first row for the header\n",
    "poverty_data = poverty_data[1:] #take the data less the header row\n",
    "poverty_data.columns = new_header #set the header row as the df header\n",
    "\n",
    "# Column Reordering\n",
    "poverty_data = poverty_data.rename(columns={\"B01003_001E\": \"Population\",\n",
    "                                            \"B17001_002E\": \"Poverty Count\",\n",
    "                                            \"NAME\": \"Name\", \n",
    "                                            \"state\": \"State\",\n",
    "                                            \"county\":\"County\"})\n",
    "\n",
    "# Add in Poverty Rate (Poverty Count / Population)\n",
    "poverty_data[\"Poverty Rate\"] = 100 * poverty_data[\"Poverty Count\"].astype(int) / poverty_data[\"Population\"].astype(int)\n",
    "\n",
    "poverty_data.head()"
   ]
  },
  {
   "cell_type": "code",
   "execution_count": 7,
   "metadata": {},
   "outputs": [
    {
     "data": {
      "text/html": [
       "<div>\n",
       "<style scoped>\n",
       "    .dataframe tbody tr th:only-of-type {\n",
       "        vertical-align: middle;\n",
       "    }\n",
       "\n",
       "    .dataframe tbody tr th {\n",
       "        vertical-align: top;\n",
       "    }\n",
       "\n",
       "    .dataframe thead th {\n",
       "        text-align: right;\n",
       "    }\n",
       "</style>\n",
       "<table border=\"1\" class=\"dataframe\">\n",
       "  <thead>\n",
       "    <tr style=\"text-align: right;\">\n",
       "      <th></th>\n",
       "      <th>County</th>\n",
       "      <th>State</th>\n",
       "      <th>Population</th>\n",
       "      <th>Poverty Rate</th>\n",
       "    </tr>\n",
       "  </thead>\n",
       "  <tbody>\n",
       "    <tr>\n",
       "      <th>1</th>\n",
       "      <td>Corozal Municipio</td>\n",
       "      <td>Puerto Rico</td>\n",
       "      <td>34933</td>\n",
       "      <td>54.807775</td>\n",
       "    </tr>\n",
       "    <tr>\n",
       "      <th>2</th>\n",
       "      <td>Maunabo Municipio</td>\n",
       "      <td>Puerto Rico</td>\n",
       "      <td>11297</td>\n",
       "      <td>52.624591</td>\n",
       "    </tr>\n",
       "    <tr>\n",
       "      <th>3</th>\n",
       "      <td>Peñuelas Municipio</td>\n",
       "      <td>Puerto Rico</td>\n",
       "      <td>21661</td>\n",
       "      <td>57.148793</td>\n",
       "    </tr>\n",
       "    <tr>\n",
       "      <th>4</th>\n",
       "      <td>Ponce Municipio</td>\n",
       "      <td>Puerto Rico</td>\n",
       "      <td>148863</td>\n",
       "      <td>50.507514</td>\n",
       "    </tr>\n",
       "    <tr>\n",
       "      <th>5</th>\n",
       "      <td>San Sebastián Municipio</td>\n",
       "      <td>Puerto Rico</td>\n",
       "      <td>38970</td>\n",
       "      <td>55.098794</td>\n",
       "    </tr>\n",
       "  </tbody>\n",
       "</table>\n",
       "</div>"
      ],
      "text/plain": [
       "0                   County         State Population  Poverty Rate\n",
       "1        Corozal Municipio   Puerto Rico      34933     54.807775\n",
       "2        Maunabo Municipio   Puerto Rico      11297     52.624591\n",
       "3       Peñuelas Municipio   Puerto Rico      21661     57.148793\n",
       "4          Ponce Municipio   Puerto Rico     148863     50.507514\n",
       "5  San Sebastián Municipio   Puerto Rico      38970     55.098794"
      ]
     },
     "execution_count": 7,
     "metadata": {},
     "output_type": "execute_result"
    }
   ],
   "source": [
    "poverty_data[\"County\"] = poverty_data[\"Name\"].str.split(pat=\",\", expand=True)[0]\n",
    "poverty_data[\"State\"] = poverty_data[\"Name\"].str.split(pat=\",\", expand=True)[1]\n",
    "# Parse Final DataFrame\n",
    "poverty_data = poverty_data[[\"County\",\"State\",\"Population\",\"Poverty Rate\"]]\n",
    "\n",
    "poverty_data.to_csv(\"county_poverty_rates.csv\", index=False)\n",
    "poverty_data.head()"
   ]
  },
  {
   "cell_type": "markdown",
   "metadata": {},
   "source": [
    "### Geocode to get lat/long centroids of counties"
   ]
  },
  {
   "cell_type": "code",
   "execution_count": 8,
   "metadata": {
    "scrolled": true
   },
   "outputs": [],
   "source": [
    "#ONLY RUN THIS CODE ONCE AND EXPORT CSV SO DON'T HAVE TO DO AGAIN\n",
    "\n",
    "# # Target county\n",
    "# target_county = poverty_data[\"County\"]\n",
    "# state = poverty_data['State']\n",
    "# coordinates=[]\n",
    "\n",
    "# for county, state in zip(target_county, state):\n",
    "#     # Build the endpoint URL\n",
    "#     target_url = (f'https://maps.googleapis.com/maps/api/geocode/json?address={county}&key={gkey}')\n",
    "#     # Run a request to endpoint and convert result to json\n",
    "#     geo_data = requests.get(target_url).json()\n",
    "\n",
    "#     try:\n",
    "#         coordinates.append([county,state,geo_data['results'][0]['geometry']['location']])\n",
    "#         print(f\"{county} County Coordinates Found: {geo_data['results'][0]['geometry']['location']}... Adding to List\")\n",
    "        \n",
    "#     except IndexError:\n",
    "#         print(f\"{county} County not found... Skipping\")\n",
    "\n",
    "#county_coordinates.to_csv(\"county_coordinates.csv\", index=False)"
   ]
  },
  {
   "cell_type": "code",
   "execution_count": 87,
   "metadata": {},
   "outputs": [
    {
     "data": {
      "text/html": [
       "<div>\n",
       "<style scoped>\n",
       "    .dataframe tbody tr th:only-of-type {\n",
       "        vertical-align: middle;\n",
       "    }\n",
       "\n",
       "    .dataframe tbody tr th {\n",
       "        vertical-align: top;\n",
       "    }\n",
       "\n",
       "    .dataframe thead th {\n",
       "        text-align: right;\n",
       "    }\n",
       "</style>\n",
       "<table border=\"1\" class=\"dataframe\">\n",
       "  <thead>\n",
       "    <tr style=\"text-align: right;\">\n",
       "      <th></th>\n",
       "      <th>County</th>\n",
       "      <th>State</th>\n",
       "      <th>lat</th>\n",
       "      <th>lng</th>\n",
       "    </tr>\n",
       "  </thead>\n",
       "  <tbody>\n",
       "    <tr>\n",
       "      <th>0</th>\n",
       "      <td>Corozal Municipio</td>\n",
       "      <td>Puerto Rico</td>\n",
       "      <td>18.341062</td>\n",
       "      <td>-66.316836</td>\n",
       "    </tr>\n",
       "    <tr>\n",
       "      <th>1</th>\n",
       "      <td>Maunabo Municipio</td>\n",
       "      <td>Puerto Rico</td>\n",
       "      <td>18.007189</td>\n",
       "      <td>-65.899329</td>\n",
       "    </tr>\n",
       "    <tr>\n",
       "      <th>2</th>\n",
       "      <td>Peñuelas Municipio</td>\n",
       "      <td>Puerto Rico</td>\n",
       "      <td>18.063358</td>\n",
       "      <td>-66.727390</td>\n",
       "    </tr>\n",
       "    <tr>\n",
       "      <th>3</th>\n",
       "      <td>Ponce Municipio</td>\n",
       "      <td>Puerto Rico</td>\n",
       "      <td>18.011077</td>\n",
       "      <td>-66.614062</td>\n",
       "    </tr>\n",
       "    <tr>\n",
       "      <th>4</th>\n",
       "      <td>San Sebastián Municipio</td>\n",
       "      <td>Puerto Rico</td>\n",
       "      <td>18.335476</td>\n",
       "      <td>-66.994679</td>\n",
       "    </tr>\n",
       "  </tbody>\n",
       "</table>\n",
       "</div>"
      ],
      "text/plain": [
       "                    County         State        lat        lng\n",
       "0        Corozal Municipio   Puerto Rico  18.341062 -66.316836\n",
       "1        Maunabo Municipio   Puerto Rico  18.007189 -65.899329\n",
       "2       Peñuelas Municipio   Puerto Rico  18.063358 -66.727390\n",
       "3          Ponce Municipio   Puerto Rico  18.011077 -66.614062\n",
       "4  San Sebastián Municipio   Puerto Rico  18.335476 -66.994679"
      ]
     },
     "execution_count": 87,
     "metadata": {},
     "output_type": "execute_result"
    }
   ],
   "source": [
    "#DATA FORMATTING: ONLY DONE ONCE BEFORE EXPORTING FILE FOR MASTER\n",
    "\n",
    "# #converting dictionary inside a list to a data series\n",
    "# coordinates = pd.DataFrame(coordinates)\n",
    "\n",
    "# county_coordinates = coordinates[2].apply(pd.Series)\n",
    "# county_coordinates['County'] = coordinates[0]\n",
    "# county_coordinates['State'] = coordinates[1]\n",
    "# county_coordinates = county_coordinates[['County','State','lat','lng']]\n",
    "# county_coordinates.head()"
   ]
  },
  {
   "cell_type": "markdown",
   "metadata": {},
   "source": [
    "## Poverty Heat Map of USA"
   ]
  },
  {
   "cell_type": "code",
   "execution_count": 9,
   "metadata": {},
   "outputs": [
    {
     "name": "stdout",
     "output_type": "stream",
     "text": [
      "(3214, 6)\n"
     ]
    },
    {
     "data": {
      "text/html": [
       "<div>\n",
       "<style scoped>\n",
       "    .dataframe tbody tr th:only-of-type {\n",
       "        vertical-align: middle;\n",
       "    }\n",
       "\n",
       "    .dataframe tbody tr th {\n",
       "        vertical-align: top;\n",
       "    }\n",
       "\n",
       "    .dataframe thead th {\n",
       "        text-align: right;\n",
       "    }\n",
       "</style>\n",
       "<table border=\"1\" class=\"dataframe\">\n",
       "  <thead>\n",
       "    <tr style=\"text-align: right;\">\n",
       "      <th></th>\n",
       "      <th>County</th>\n",
       "      <th>State</th>\n",
       "      <th>Population</th>\n",
       "      <th>Poverty Rate</th>\n",
       "      <th>lat</th>\n",
       "      <th>lng</th>\n",
       "    </tr>\n",
       "  </thead>\n",
       "  <tbody>\n",
       "    <tr>\n",
       "      <th>0</th>\n",
       "      <td>Corozal Municipio</td>\n",
       "      <td>Puerto Rico</td>\n",
       "      <td>34933</td>\n",
       "      <td>54.807775</td>\n",
       "      <td>18.341062</td>\n",
       "      <td>-66.316836</td>\n",
       "    </tr>\n",
       "    <tr>\n",
       "      <th>1</th>\n",
       "      <td>Maunabo Municipio</td>\n",
       "      <td>Puerto Rico</td>\n",
       "      <td>11297</td>\n",
       "      <td>52.624591</td>\n",
       "      <td>18.007189</td>\n",
       "      <td>-65.899329</td>\n",
       "    </tr>\n",
       "    <tr>\n",
       "      <th>2</th>\n",
       "      <td>Peñuelas Municipio</td>\n",
       "      <td>Puerto Rico</td>\n",
       "      <td>21661</td>\n",
       "      <td>57.148793</td>\n",
       "      <td>18.063358</td>\n",
       "      <td>-66.727390</td>\n",
       "    </tr>\n",
       "    <tr>\n",
       "      <th>3</th>\n",
       "      <td>Ponce Municipio</td>\n",
       "      <td>Puerto Rico</td>\n",
       "      <td>148863</td>\n",
       "      <td>50.507514</td>\n",
       "      <td>18.011077</td>\n",
       "      <td>-66.614062</td>\n",
       "    </tr>\n",
       "    <tr>\n",
       "      <th>4</th>\n",
       "      <td>San Sebastián Municipio</td>\n",
       "      <td>Puerto Rico</td>\n",
       "      <td>38970</td>\n",
       "      <td>55.098794</td>\n",
       "      <td>18.335476</td>\n",
       "      <td>-66.994679</td>\n",
       "    </tr>\n",
       "  </tbody>\n",
       "</table>\n",
       "</div>"
      ],
      "text/plain": [
       "                    County         State Population  Poverty Rate        lat  \\\n",
       "0        Corozal Municipio   Puerto Rico      34933     54.807775  18.341062   \n",
       "1        Maunabo Municipio   Puerto Rico      11297     52.624591  18.007189   \n",
       "2       Peñuelas Municipio   Puerto Rico      21661     57.148793  18.063358   \n",
       "3          Ponce Municipio   Puerto Rico     148863     50.507514  18.011077   \n",
       "4  San Sebastián Municipio   Puerto Rico      38970     55.098794  18.335476   \n",
       "\n",
       "         lng  \n",
       "0 -66.316836  \n",
       "1 -65.899329  \n",
       "2 -66.727390  \n",
       "3 -66.614062  \n",
       "4 -66.994679  "
      ]
     },
     "execution_count": 9,
     "metadata": {},
     "output_type": "execute_result"
    }
   ],
   "source": [
    "# Merge two dataframes using an inner join\n",
    "merge_table = pd.merge(poverty_data, county_coordinates, on=[\"County\",\"State\"])\n",
    "print(merge_table.shape)\n",
    "merge_table.head()"
   ]
  },
  {
   "cell_type": "code",
   "execution_count": 10,
   "metadata": {},
   "outputs": [],
   "source": [
    "# Store 'Lat' and 'Lng' into  locations \n",
    "locations = merge_table[[\"lat\", \"lng\"]].astype(float)\n",
    "\n",
    "# Convert Poverty Rate to float and store\n",
    "poverty_rate = merge_table[\"Poverty Rate\"].astype(float)"
   ]
  },
  {
   "cell_type": "code",
   "execution_count": 20,
   "metadata": {},
   "outputs": [
    {
     "data": {
      "application/vnd.jupyter.widget-view+json": {
       "model_id": "717ecb4cab7946748af0a5e8cf11544f",
       "version_major": 2,
       "version_minor": 0
      },
      "text/plain": [
       "Figure(layout=FigureLayout(height='420px'))"
      ]
     },
     "metadata": {},
     "output_type": "display_data"
    },
    {
     "data": {
      "text/plain": [
       "<Figure size 432x288 with 0 Axes>"
      ]
     },
     "metadata": {},
     "output_type": "display_data"
    }
   ],
   "source": [
    "# Create a poverty Heatmap layer\n",
    "fig = gmaps.figure()\n",
    "\n",
    "heat_layer = gmaps.heatmap_layer(locations, weights=poverty_rate, \n",
    "                                 dissipating=False, max_intensity=100,\n",
    "                                 point_radius = 1)\n",
    "\n",
    "# Adjust heat_layer setting to help with heatmap dissipating on zoom\n",
    "heat_layer.dissipating = False\n",
    "heat_layer.max_intensity = 100\n",
    "heat_layer.point_radius = 1\n",
    "\n",
    "fig.add_layer(heat_layer)\n",
    "\n",
    "plt.savefig(\"Poverty Heatmap.png\")\n",
    "fig"
   ]
  },
  {
   "cell_type": "markdown",
   "metadata": {},
   "source": [
    "## Homeless Rate"
   ]
  },
  {
   "cell_type": "code",
   "execution_count": 12,
   "metadata": {},
   "outputs": [
    {
     "name": "stdout",
     "output_type": "stream",
     "text": [
      "(3193, 7)\n"
     ]
    },
    {
     "data": {
      "text/html": [
       "<div>\n",
       "<style scoped>\n",
       "    .dataframe tbody tr th:only-of-type {\n",
       "        vertical-align: middle;\n",
       "    }\n",
       "\n",
       "    .dataframe tbody tr th {\n",
       "        vertical-align: top;\n",
       "    }\n",
       "\n",
       "    .dataframe thead th {\n",
       "        text-align: right;\n",
       "    }\n",
       "</style>\n",
       "<table border=\"1\" class=\"dataframe\">\n",
       "  <thead>\n",
       "    <tr style=\"text-align: right;\">\n",
       "      <th></th>\n",
       "      <th>County</th>\n",
       "      <th>State</th>\n",
       "      <th>Homeless Pop</th>\n",
       "      <th>Population</th>\n",
       "      <th>Poverty Rate</th>\n",
       "      <th>lat</th>\n",
       "      <th>lng</th>\n",
       "    </tr>\n",
       "  </thead>\n",
       "  <tbody>\n",
       "    <tr>\n",
       "      <th>0</th>\n",
       "      <td>Autauga County</td>\n",
       "      <td>Alabama</td>\n",
       "      <td>0</td>\n",
       "      <td>55036</td>\n",
       "      <td>13.596555</td>\n",
       "      <td>32.579182</td>\n",
       "      <td>-86.499655</td>\n",
       "    </tr>\n",
       "    <tr>\n",
       "      <th>1</th>\n",
       "      <td>Bibb County</td>\n",
       "      <td>Alabama</td>\n",
       "      <td>0</td>\n",
       "      <td>22580</td>\n",
       "      <td>13.875111</td>\n",
       "      <td>32.786573</td>\n",
       "      <td>-83.719914</td>\n",
       "    </tr>\n",
       "    <tr>\n",
       "      <th>2</th>\n",
       "      <td>Chambers County</td>\n",
       "      <td>Alabama</td>\n",
       "      <td>0</td>\n",
       "      <td>33895</td>\n",
       "      <td>18.551409</td>\n",
       "      <td>29.752496</td>\n",
       "      <td>-94.686378</td>\n",
       "    </tr>\n",
       "    <tr>\n",
       "      <th>3</th>\n",
       "      <td>Cherokee County</td>\n",
       "      <td>Alabama</td>\n",
       "      <td>0</td>\n",
       "      <td>25855</td>\n",
       "      <td>15.873139</td>\n",
       "      <td>34.251453</td>\n",
       "      <td>-84.480261</td>\n",
       "    </tr>\n",
       "    <tr>\n",
       "      <th>4</th>\n",
       "      <td>Clarke County</td>\n",
       "      <td>Alabama</td>\n",
       "      <td>0</td>\n",
       "      <td>24625</td>\n",
       "      <td>24.804061</td>\n",
       "      <td>33.951935</td>\n",
       "      <td>-83.357567</td>\n",
       "    </tr>\n",
       "  </tbody>\n",
       "</table>\n",
       "</div>"
      ],
      "text/plain": [
       "            County     State  Homeless Pop Population  Poverty Rate  \\\n",
       "0   Autauga County   Alabama             0      55036     13.596555   \n",
       "1      Bibb County   Alabama             0      22580     13.875111   \n",
       "2  Chambers County   Alabama             0      33895     18.551409   \n",
       "3  Cherokee County   Alabama             0      25855     15.873139   \n",
       "4    Clarke County   Alabama             0      24625     24.804061   \n",
       "\n",
       "         lat        lng  \n",
       "0  32.579182 -86.499655  \n",
       "1  32.786573 -83.719914  \n",
       "2  29.752496 -94.686378  \n",
       "3  34.251453 -84.480261  \n",
       "4  33.951935 -83.357567  "
      ]
     },
     "execution_count": 12,
     "metadata": {},
     "output_type": "execute_result"
    }
   ],
   "source": [
    "url = \"https://api.census.gov/data/2010/dec/sf1?get=PCT020B027,PCT020D027,PCT020E027,PCT021093,PCT021061,PCT021029,PCT021190,PCT021126,PCT021158,PCT020H027,PCT020A027,PCT020I027,PCT020C027,PCT020027,PCT020F027,PCT020G027,NAME&for=county:*&key=bdb18cf93fde53cedda10d62ee24bc6d29e147e5\"\n",
    "response = requests.get(url)\n",
    "response_json = response.json()\n",
    "\n",
    "census_pd = pd.DataFrame(response_json)\n",
    "\n",
    "census_pd.columns = census_pd.iloc[0]\n",
    "census_pd = census_pd[1:]\n",
    "\n",
    "census_pd[\"County\"] = census_pd[\"NAME\"].str.split(pat=\",\", expand=True)[0]\n",
    "census_pd[\"State\"] = census_pd[\"NAME\"].str.split(pat=\",\", expand=True)[1]\n",
    "\n",
    "del census_pd[\"state\"]\n",
    "del census_pd[\"county\"]\n",
    "del census_pd[\"NAME\"]\n",
    "\n",
    "cols = census_pd.columns.drop([\"County\",\"State\"])\n",
    "\n",
    "census_pd[cols] = census_pd[cols].apply(pd.to_numeric)\n",
    "\n",
    "census_pd[\"Homeless Pop\"] = census_pd.sum(axis=1)\n",
    "\n",
    "final_data = census_pd[[\"County\", \"State\", \"Homeless Pop\"]]\n",
    "\n",
    "# Merge two dataframes using an inner join\n",
    "merge_table_all = pd.merge(final_data, merge_table, on=[\"County\",\"State\"])\n",
    "print(merge_table_all.shape)\n",
    "merge_table_all.head()"
   ]
  },
  {
   "cell_type": "code",
   "execution_count": 13,
   "metadata": {},
   "outputs": [],
   "source": [
    "# Store 'Lat' and 'Lng' into  locations \n",
    "locations2 = merge_table_all[[\"lat\", \"lng\"]].astype(float)\n",
    "\n",
    "# Convert Poverty Rate to float and store\n",
    "homeless_count = merge_table_all[\"Homeless Pop\"].tolist()"
   ]
  },
  {
   "cell_type": "code",
   "execution_count": 19,
   "metadata": {
    "scrolled": false
   },
   "outputs": [
    {
     "data": {
      "text/plain": [
       "<Figure size 432x288 with 0 Axes>"
      ]
     },
     "metadata": {},
     "output_type": "display_data"
    }
   ],
   "source": [
    "homeless_layer = gmaps.symbol_layer(\n",
    "    locations2, fill_color='rgba(0, 0, 0, 0.4)',\n",
    "    stroke_color='rgba(0, 0, 0, 0.4)', scale=2,\n",
    "    info_box_content=[f\"Homeless Count: {i}\" for i in homeless_count])\n",
    "\n",
    "fig = gmaps.figure()\n",
    "fig.add_layer(homeless_layer)\n",
    "\n",
    "plt.savefig(\"Homeless Heatmap.png\")\n",
    "fig\n",
    "\n",
    "\n",
    "\n"
   ]
  },
  {
   "cell_type": "code",
   "execution_count": 21,
   "metadata": {},
   "outputs": [
    {
     "data": {
      "application/vnd.jupyter.widget-view+json": {
       "model_id": "fc009dfcecf54e698adc1c7f8b8042a2",
       "version_major": 2,
       "version_minor": 0
      },
      "text/plain": [
       "Figure(layout=FigureLayout(height='420px'))"
      ]
     },
     "metadata": {},
     "output_type": "display_data"
    },
    {
     "data": {
      "text/plain": [
       "<Figure size 432x288 with 0 Axes>"
      ]
     },
     "metadata": {},
     "output_type": "display_data"
    }
   ],
   "source": [
    "# Create a combined map\n",
    "fig = gmaps.figure()\n",
    "\n",
    "fig.add_layer(heat_layer)\n",
    "fig.add_layer(homeless_layer)\n",
    "\n",
    "\n",
    "plt.savefig(\"Combined Heatmap.png\")\n",
    "fig"
   ]
  },
  {
   "cell_type": "code",
   "execution_count": null,
   "metadata": {},
   "outputs": [],
   "source": []
  },
  {
   "cell_type": "code",
   "execution_count": null,
   "metadata": {},
   "outputs": [],
   "source": []
  },
  {
   "cell_type": "code",
   "execution_count": null,
   "metadata": {},
   "outputs": [],
   "source": []
  },
  {
   "cell_type": "code",
   "execution_count": null,
   "metadata": {},
   "outputs": [],
   "source": []
  },
  {
   "cell_type": "code",
   "execution_count": null,
   "metadata": {},
   "outputs": [],
   "source": []
  },
  {
   "cell_type": "code",
   "execution_count": null,
   "metadata": {},
   "outputs": [],
   "source": []
  },
  {
   "cell_type": "code",
   "execution_count": null,
   "metadata": {},
   "outputs": [],
   "source": []
  },
  {
   "cell_type": "markdown",
   "metadata": {},
   "source": [
    "### Poverty/Homeless Analysis"
   ]
  },
  {
   "cell_type": "code",
   "execution_count": 17,
   "metadata": {},
   "outputs": [
    {
     "name": "stdout",
     "output_type": "stream",
     "text": [
      "(3193, 7)\n"
     ]
    },
    {
     "data": {
      "text/html": [
       "<div>\n",
       "<style scoped>\n",
       "    .dataframe tbody tr th:only-of-type {\n",
       "        vertical-align: middle;\n",
       "    }\n",
       "\n",
       "    .dataframe tbody tr th {\n",
       "        vertical-align: top;\n",
       "    }\n",
       "\n",
       "    .dataframe thead th {\n",
       "        text-align: right;\n",
       "    }\n",
       "</style>\n",
       "<table border=\"1\" class=\"dataframe\">\n",
       "  <thead>\n",
       "    <tr style=\"text-align: right;\">\n",
       "      <th></th>\n",
       "      <th>County</th>\n",
       "      <th>State</th>\n",
       "      <th>Homeless Pop</th>\n",
       "      <th>Population</th>\n",
       "      <th>Poverty Rate</th>\n",
       "      <th>lat</th>\n",
       "      <th>lng</th>\n",
       "    </tr>\n",
       "  </thead>\n",
       "  <tbody>\n",
       "    <tr>\n",
       "      <th>0</th>\n",
       "      <td>Autauga County</td>\n",
       "      <td>Alabama</td>\n",
       "      <td>0</td>\n",
       "      <td>55036</td>\n",
       "      <td>13.596555</td>\n",
       "      <td>32.579182</td>\n",
       "      <td>-86.499655</td>\n",
       "    </tr>\n",
       "    <tr>\n",
       "      <th>1</th>\n",
       "      <td>Bibb County</td>\n",
       "      <td>Alabama</td>\n",
       "      <td>0</td>\n",
       "      <td>22580</td>\n",
       "      <td>13.875111</td>\n",
       "      <td>32.786573</td>\n",
       "      <td>-83.719914</td>\n",
       "    </tr>\n",
       "    <tr>\n",
       "      <th>2</th>\n",
       "      <td>Chambers County</td>\n",
       "      <td>Alabama</td>\n",
       "      <td>0</td>\n",
       "      <td>33895</td>\n",
       "      <td>18.551409</td>\n",
       "      <td>29.752496</td>\n",
       "      <td>-94.686378</td>\n",
       "    </tr>\n",
       "    <tr>\n",
       "      <th>3</th>\n",
       "      <td>Cherokee County</td>\n",
       "      <td>Alabama</td>\n",
       "      <td>0</td>\n",
       "      <td>25855</td>\n",
       "      <td>15.873139</td>\n",
       "      <td>34.251453</td>\n",
       "      <td>-84.480261</td>\n",
       "    </tr>\n",
       "    <tr>\n",
       "      <th>4</th>\n",
       "      <td>Clarke County</td>\n",
       "      <td>Alabama</td>\n",
       "      <td>0</td>\n",
       "      <td>24625</td>\n",
       "      <td>24.804061</td>\n",
       "      <td>33.951935</td>\n",
       "      <td>-83.357567</td>\n",
       "    </tr>\n",
       "  </tbody>\n",
       "</table>\n",
       "</div>"
      ],
      "text/plain": [
       "            County     State  Homeless Pop Population  Poverty Rate  \\\n",
       "0   Autauga County   Alabama             0      55036     13.596555   \n",
       "1      Bibb County   Alabama             0      22580     13.875111   \n",
       "2  Chambers County   Alabama             0      33895     18.551409   \n",
       "3  Cherokee County   Alabama             0      25855     15.873139   \n",
       "4    Clarke County   Alabama             0      24625     24.804061   \n",
       "\n",
       "         lat        lng  \n",
       "0  32.579182 -86.499655  \n",
       "1  32.786573 -83.719914  \n",
       "2  29.752496 -94.686378  \n",
       "3  34.251453 -84.480261  \n",
       "4  33.951935 -83.357567  "
      ]
     },
     "execution_count": 17,
     "metadata": {},
     "output_type": "execute_result"
    }
   ],
   "source": [
    "print(merge_table_all.shape)\n",
    "merge_table_all.head()"
   ]
  },
  {
   "cell_type": "code",
   "execution_count": 18,
   "metadata": {},
   "outputs": [
    {
     "ename": "SyntaxError",
     "evalue": "invalid syntax (<ipython-input-18-ca0d6022280f>, line 7)",
     "output_type": "error",
     "traceback": [
      "\u001b[1;36m  File \u001b[1;32m\"<ipython-input-18-ca0d6022280f>\"\u001b[1;36m, line \u001b[1;32m7\u001b[0m\n\u001b[1;33m    homeless_rate=\u001b[0m\n\u001b[1;37m                  ^\u001b[0m\n\u001b[1;31mSyntaxError\u001b[0m\u001b[1;31m:\u001b[0m invalid syntax\n"
     ]
    }
   ],
   "source": [
    "#quick summary of data as a whole\n",
    "\n",
    "#total number of counties\n",
    "counties_num=merge_table_all.shape[0]\n",
    "\n",
    "#average homeless rate\n",
    "homeless_rate=\n",
    "\n",
    "#total homeless population in US\n",
    "homeless_tot=merge_table_all['Homeless Pop'].sum()\n",
    "\n",
    "#average poverty rate\n",
    "avg_poverty=round(merge_table_all['Poverty Rate'].mean(),2)\n",
    "\n",
    "#put data into pandas data frame table\n",
    "data_summary = pd.DataFrame([{\n",
    "    'Total Counties': counties_num,'Total States': num_states,'Total Homeless Population': homeless_tot,\n",
    "    'Average Poverty Rate': avg_poverty\n",
    "}])\n",
    "\n",
    "#display\n",
    "data_summary"
   ]
  },
  {
   "cell_type": "code",
   "execution_count": null,
   "metadata": {},
   "outputs": [],
   "source": []
  },
  {
   "cell_type": "code",
   "execution_count": null,
   "metadata": {},
   "outputs": [],
   "source": []
  },
  {
   "cell_type": "code",
   "execution_count": null,
   "metadata": {},
   "outputs": [],
   "source": []
  },
  {
   "cell_type": "code",
   "execution_count": null,
   "metadata": {},
   "outputs": [],
   "source": []
  },
  {
   "cell_type": "code",
   "execution_count": null,
   "metadata": {},
   "outputs": [],
   "source": []
  },
  {
   "cell_type": "code",
   "execution_count": null,
   "metadata": {},
   "outputs": [],
   "source": []
  },
  {
   "cell_type": "code",
   "execution_count": null,
   "metadata": {},
   "outputs": [],
   "source": []
  },
  {
   "cell_type": "code",
   "execution_count": null,
   "metadata": {},
   "outputs": [],
   "source": []
  },
  {
   "cell_type": "code",
   "execution_count": null,
   "metadata": {},
   "outputs": [],
   "source": []
  },
  {
   "cell_type": "code",
   "execution_count": null,
   "metadata": {},
   "outputs": [],
   "source": []
  },
  {
   "cell_type": "code",
   "execution_count": null,
   "metadata": {},
   "outputs": [],
   "source": []
  },
  {
   "cell_type": "code",
   "execution_count": null,
   "metadata": {},
   "outputs": [],
   "source": []
  },
  {
   "cell_type": "code",
   "execution_count": null,
   "metadata": {},
   "outputs": [],
   "source": []
  }
 ],
 "metadata": {
  "kernelspec": {
   "display_name": "Python 3",
   "language": "python",
   "name": "python3"
  },
  "language_info": {
   "codemirror_mode": {
    "name": "ipython",
    "version": 3
   },
   "file_extension": ".py",
   "mimetype": "text/x-python",
   "name": "python",
   "nbconvert_exporter": "python",
   "pygments_lexer": "ipython3",
   "version": "3.7.1"
  }
 },
 "nbformat": 4,
 "nbformat_minor": 2
}
