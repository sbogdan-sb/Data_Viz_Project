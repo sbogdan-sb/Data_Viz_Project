{
 "cells": [
  {
   "cell_type": "markdown",
   "metadata": {},
   "source": [
    "# Poverty Rates for Cities Over 1M\n",
    "- Joey Ashcroft Code Portion to be merged to master"
   ]
  },
  {
   "cell_type": "code",
   "execution_count": 51,
   "metadata": {},
   "outputs": [],
   "source": [
    "# Dependencies\n",
    "import numpy as np\n",
    "import pandas as pd\n",
    "import matplotlib.pyplot as plt\n",
    "import requests\n",
    "from census import Census\n",
    "import gmaps"
   ]
  },
  {
   "cell_type": "code",
   "execution_count": 52,
   "metadata": {},
   "outputs": [],
   "source": [
    "# Census & gmaps API Keys\n",
    "from config import (api_key, gkey)\n",
    "\n",
    "# Configure gmaps\n",
    "gmaps.configure(api_key=gkey)"
   ]
  },
  {
   "cell_type": "code",
   "execution_count": 53,
   "metadata": {},
   "outputs": [
    {
     "data": {
      "text/plain": [
       "'https://api.census.gov/data/2017/acs/acs5?get=NAME,B01003_001E&B17001_002E&for=county:*&key=e4802ddb92bf7b297f5f10de4176b9d5341c10c8'"
      ]
     },
     "execution_count": 53,
     "metadata": {},
     "output_type": "execute_result"
    }
   ],
   "source": [
    "name = \"?get=NAME,\"\n",
    "population = \"B01003_001E\"\n",
    "poverty_count = \"B17001_002E\"\n",
    "county = \"for=county:*\"\n",
    "\n",
    "base_url = \"https://api.census.gov/data/2017/acs/acs5\"\n",
    "query_url = base_url + name + population + \"&\" + poverty_count + \"&\" + county + \"&key=\" + api_key\n",
    "query_url"
   ]
  },
  {
   "cell_type": "code",
   "execution_count": 54,
   "metadata": {},
   "outputs": [
    {
     "data": {
      "text/html": [
       "<div>\n",
       "<style scoped>\n",
       "    .dataframe tbody tr th:only-of-type {\n",
       "        vertical-align: middle;\n",
       "    }\n",
       "\n",
       "    .dataframe tbody tr th {\n",
       "        vertical-align: top;\n",
       "    }\n",
       "\n",
       "    .dataframe thead th {\n",
       "        text-align: right;\n",
       "    }\n",
       "</style>\n",
       "<table border=\"1\" class=\"dataframe\">\n",
       "  <thead>\n",
       "    <tr style=\"text-align: right;\">\n",
       "      <th></th>\n",
       "      <th>Name</th>\n",
       "      <th>Population</th>\n",
       "      <th>Poverty Count</th>\n",
       "      <th>State</th>\n",
       "      <th>County</th>\n",
       "      <th>Poverty Rate</th>\n",
       "    </tr>\n",
       "  </thead>\n",
       "  <tbody>\n",
       "    <tr>\n",
       "      <th>1</th>\n",
       "      <td>Corozal Municipio, Puerto Rico</td>\n",
       "      <td>34933</td>\n",
       "      <td>19146</td>\n",
       "      <td>72</td>\n",
       "      <td>047</td>\n",
       "      <td>54.807775</td>\n",
       "    </tr>\n",
       "    <tr>\n",
       "      <th>2</th>\n",
       "      <td>Maunabo Municipio, Puerto Rico</td>\n",
       "      <td>11297</td>\n",
       "      <td>5945</td>\n",
       "      <td>72</td>\n",
       "      <td>095</td>\n",
       "      <td>52.624591</td>\n",
       "    </tr>\n",
       "    <tr>\n",
       "      <th>3</th>\n",
       "      <td>Peñuelas Municipio, Puerto Rico</td>\n",
       "      <td>21661</td>\n",
       "      <td>12379</td>\n",
       "      <td>72</td>\n",
       "      <td>111</td>\n",
       "      <td>57.148793</td>\n",
       "    </tr>\n",
       "    <tr>\n",
       "      <th>4</th>\n",
       "      <td>Ponce Municipio, Puerto Rico</td>\n",
       "      <td>148863</td>\n",
       "      <td>75187</td>\n",
       "      <td>72</td>\n",
       "      <td>113</td>\n",
       "      <td>50.507514</td>\n",
       "    </tr>\n",
       "    <tr>\n",
       "      <th>5</th>\n",
       "      <td>San Sebastián Municipio, Puerto Rico</td>\n",
       "      <td>38970</td>\n",
       "      <td>21472</td>\n",
       "      <td>72</td>\n",
       "      <td>131</td>\n",
       "      <td>55.098794</td>\n",
       "    </tr>\n",
       "  </tbody>\n",
       "</table>\n",
       "</div>"
      ],
      "text/plain": [
       "0                                  Name Population Poverty Count State County  \\\n",
       "1        Corozal Municipio, Puerto Rico      34933         19146    72    047   \n",
       "2        Maunabo Municipio, Puerto Rico      11297          5945    72    095   \n",
       "3       Peñuelas Municipio, Puerto Rico      21661         12379    72    111   \n",
       "4          Ponce Municipio, Puerto Rico     148863         75187    72    113   \n",
       "5  San Sebastián Municipio, Puerto Rico      38970         21472    72    131   \n",
       "\n",
       "0  Poverty Rate  \n",
       "1     54.807775  \n",
       "2     52.624591  \n",
       "3     57.148793  \n",
       "4     50.507514  \n",
       "5     55.098794  "
      ]
     },
     "execution_count": 54,
     "metadata": {},
     "output_type": "execute_result"
    }
   ],
   "source": [
    "census_response = requests.get(query_url)\n",
    "census_response = census_response.json()\n",
    "\n",
    "# Convert to DataFrame\n",
    "poverty_data = pd.DataFrame(census_response)\n",
    "\n",
    "#replace header with row 1\n",
    "new_header = poverty_data.iloc[0] #grab the first row for the header\n",
    "poverty_data = poverty_data[1:] #take the data less the header row\n",
    "poverty_data.columns = new_header #set the header row as the df header\n",
    "\n",
    "# Column Reordering\n",
    "poverty_data = poverty_data.rename(columns={\"B01003_001E\": \"Population\",\n",
    "                                            \"B17001_002E\": \"Poverty Count\",\n",
    "                                            \"NAME\": \"Name\", \n",
    "                                            \"state\": \"State\",\n",
    "                                            \"county\":\"County\"})\n",
    "\n",
    "# Add in Poverty Rate (Poverty Count / Population)\n",
    "poverty_data[\"Poverty Rate\"] = 100 * poverty_data[\"Poverty Count\"].astype(int) / poverty_data[\"Population\"].astype(int)\n",
    "\n",
    "poverty_data.head()"
   ]
  },
  {
   "cell_type": "code",
   "execution_count": 55,
   "metadata": {},
   "outputs": [
    {
     "data": {
      "text/html": [
       "<div>\n",
       "<style scoped>\n",
       "    .dataframe tbody tr th:only-of-type {\n",
       "        vertical-align: middle;\n",
       "    }\n",
       "\n",
       "    .dataframe tbody tr th {\n",
       "        vertical-align: top;\n",
       "    }\n",
       "\n",
       "    .dataframe thead th {\n",
       "        text-align: right;\n",
       "    }\n",
       "</style>\n",
       "<table border=\"1\" class=\"dataframe\">\n",
       "  <thead>\n",
       "    <tr style=\"text-align: right;\">\n",
       "      <th></th>\n",
       "      <th>County</th>\n",
       "      <th>State</th>\n",
       "      <th>Poverty Rate</th>\n",
       "    </tr>\n",
       "  </thead>\n",
       "  <tbody>\n",
       "    <tr>\n",
       "      <th>1</th>\n",
       "      <td>Corozal Municipio</td>\n",
       "      <td>Puerto Rico</td>\n",
       "      <td>54.807775</td>\n",
       "    </tr>\n",
       "    <tr>\n",
       "      <th>2</th>\n",
       "      <td>Maunabo Municipio</td>\n",
       "      <td>Puerto Rico</td>\n",
       "      <td>52.624591</td>\n",
       "    </tr>\n",
       "    <tr>\n",
       "      <th>3</th>\n",
       "      <td>Peñuelas Municipio</td>\n",
       "      <td>Puerto Rico</td>\n",
       "      <td>57.148793</td>\n",
       "    </tr>\n",
       "    <tr>\n",
       "      <th>4</th>\n",
       "      <td>Ponce Municipio</td>\n",
       "      <td>Puerto Rico</td>\n",
       "      <td>50.507514</td>\n",
       "    </tr>\n",
       "    <tr>\n",
       "      <th>5</th>\n",
       "      <td>San Sebastián Municipio</td>\n",
       "      <td>Puerto Rico</td>\n",
       "      <td>55.098794</td>\n",
       "    </tr>\n",
       "  </tbody>\n",
       "</table>\n",
       "</div>"
      ],
      "text/plain": [
       "0                   County         State  Poverty Rate\n",
       "1        Corozal Municipio   Puerto Rico     54.807775\n",
       "2        Maunabo Municipio   Puerto Rico     52.624591\n",
       "3       Peñuelas Municipio   Puerto Rico     57.148793\n",
       "4          Ponce Municipio   Puerto Rico     50.507514\n",
       "5  San Sebastián Municipio   Puerto Rico     55.098794"
      ]
     },
     "execution_count": 55,
     "metadata": {},
     "output_type": "execute_result"
    }
   ],
   "source": [
    "poverty_data[\"County\"] = poverty_data[\"Name\"].str.split(pat=\",\", expand=True)[0]\n",
    "poverty_data[\"State\"] = poverty_data[\"Name\"].str.split(pat=\",\", expand=True)[1]\n",
    "# Parse Final DataFrame\n",
    "poverty_data = poverty_data[[\"County\",\"State\",\"Poverty Rate\"]]\n",
    "poverty_data.head()"
   ]
  },
  {
   "cell_type": "code",
   "execution_count": null,
   "metadata": {},
   "outputs": [],
   "source": []
  },
  {
   "cell_type": "code",
   "execution_count": null,
   "metadata": {},
   "outputs": [],
   "source": []
  },
  {
   "cell_type": "code",
   "execution_count": null,
   "metadata": {},
   "outputs": [],
   "source": []
  },
  {
   "cell_type": "code",
   "execution_count": null,
   "metadata": {},
   "outputs": [],
   "source": []
  },
  {
   "cell_type": "code",
   "execution_count": null,
   "metadata": {},
   "outputs": [],
   "source": []
  },
  {
   "cell_type": "code",
   "execution_count": null,
   "metadata": {},
   "outputs": [],
   "source": []
  },
  {
   "cell_type": "code",
   "execution_count": null,
   "metadata": {},
   "outputs": [],
   "source": []
  },
  {
   "cell_type": "code",
   "execution_count": null,
   "metadata": {},
   "outputs": [],
   "source": []
  },
  {
   "cell_type": "code",
   "execution_count": null,
   "metadata": {},
   "outputs": [],
   "source": []
  },
  {
   "cell_type": "code",
   "execution_count": null,
   "metadata": {},
   "outputs": [],
   "source": []
  },
  {
   "cell_type": "code",
   "execution_count": null,
   "metadata": {},
   "outputs": [],
   "source": []
  },
  {
   "cell_type": "code",
   "execution_count": null,
   "metadata": {},
   "outputs": [],
   "source": []
  },
  {
   "cell_type": "code",
   "execution_count": null,
   "metadata": {},
   "outputs": [],
   "source": []
  },
  {
   "cell_type": "code",
   "execution_count": null,
   "metadata": {},
   "outputs": [],
   "source": []
  },
  {
   "cell_type": "code",
   "execution_count": null,
   "metadata": {},
   "outputs": [],
   "source": []
  },
  {
   "cell_type": "code",
   "execution_count": null,
   "metadata": {},
   "outputs": [],
   "source": []
  },
  {
   "cell_type": "code",
   "execution_count": null,
   "metadata": {},
   "outputs": [],
   "source": []
  },
  {
   "cell_type": "code",
   "execution_count": null,
   "metadata": {},
   "outputs": [],
   "source": []
  },
  {
   "cell_type": "code",
   "execution_count": null,
   "metadata": {},
   "outputs": [],
   "source": []
  },
  {
   "cell_type": "code",
   "execution_count": null,
   "metadata": {},
   "outputs": [],
   "source": []
  },
  {
   "cell_type": "code",
   "execution_count": null,
   "metadata": {},
   "outputs": [],
   "source": []
  }
 ],
 "metadata": {
  "kernelspec": {
   "display_name": "Python 3",
   "language": "python",
   "name": "python3"
  },
  "language_info": {
   "codemirror_mode": {
    "name": "ipython",
    "version": 3
   },
   "file_extension": ".py",
   "mimetype": "text/x-python",
   "name": "python",
   "nbconvert_exporter": "python",
   "pygments_lexer": "ipython3",
   "version": "3.7.1"
  }
 },
 "nbformat": 4,
 "nbformat_minor": 2
}
