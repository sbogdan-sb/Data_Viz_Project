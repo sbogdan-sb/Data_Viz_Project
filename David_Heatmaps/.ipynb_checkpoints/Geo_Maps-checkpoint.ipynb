{
 "cells": [
  {
   "cell_type": "code",
   "execution_count": 18,
   "metadata": {},
   "outputs": [],
   "source": [
    "from census import Census\n",
    "from config import (census1_api_key, census2_api_key, weather_api_key, gkey)\n",
    "import pandas as pd\n",
    "import requests\n",
    "import json\n",
    "import matplotlib.pyplot as plt\n",
    "import os\n",
    "import numpy as np\n",
    "from census import Census\n",
    "import gmaps\n",
    "import csv\n",
    "import matplotlib.pyplot as plt\n",
    "import openweathermapy as ow\n",
    "import time\n"
   ]
  },
  {
   "cell_type": "markdown",
   "metadata": {},
   "source": [
    "# Geo Maps"
   ]
  },
  {
   "cell_type": "code",
   "execution_count": 19,
   "metadata": {},
   "outputs": [],
   "source": [
    "county_df = pd.read_csv(\"county_coordinates_edits.csv\").iloc[:,1:5]\n",
    "county_df[\"County\"] = county_df[\"County\"].map(lambda x: x.lower())\n",
    "county_df[\"State\"] = county_df[\"State\"].map(lambda x: x.lower())\n",
    "county_df[\"State\"] = county_df['State'].str.strip()\n",
    "combined_data = pd.read_csv(\"combined_data.csv\").iloc[:,1:8]"
   ]
  },
  {
   "cell_type": "code",
   "execution_count": 20,
   "metadata": {},
   "outputs": [],
   "source": [
    "geo_plot_data=pd.merge(combined_data,county_df,on=[\"County\",\"State\"],how=\"outer\")\n"
   ]
  },
  {
   "cell_type": "code",
   "execution_count": 21,
   "metadata": {},
   "outputs": [],
   "source": [
    "geo_plot_data[\"Homeless Rate\"] = geo_plot_data[\"Homeless Pop\"] /geo_plot_data[\"Population\"]*100\n"
   ]
  },
  {
   "cell_type": "code",
   "execution_count": 22,
   "metadata": {},
   "outputs": [
    {
     "data": {
      "text/html": [
       "<div>\n",
       "<style scoped>\n",
       "    .dataframe tbody tr th:only-of-type {\n",
       "        vertical-align: middle;\n",
       "    }\n",
       "\n",
       "    .dataframe tbody tr th {\n",
       "        vertical-align: top;\n",
       "    }\n",
       "\n",
       "    .dataframe thead th {\n",
       "        text-align: right;\n",
       "    }\n",
       "</style>\n",
       "<table border=\"1\" class=\"dataframe\">\n",
       "  <thead>\n",
       "    <tr style=\"text-align: right;\">\n",
       "      <th></th>\n",
       "      <th>County</th>\n",
       "      <th>State</th>\n",
       "      <th>Homeless Pop</th>\n",
       "      <th>Population</th>\n",
       "      <th>Poverty Rate</th>\n",
       "      <th>Price_2018</th>\n",
       "      <th>Temp</th>\n",
       "      <th>lat</th>\n",
       "      <th>lng</th>\n",
       "      <th>Homeless Rate</th>\n",
       "    </tr>\n",
       "  </thead>\n",
       "  <tbody>\n",
       "    <tr>\n",
       "      <th>4</th>\n",
       "      <td>coffee county</td>\n",
       "      <td>alabama</td>\n",
       "      <td>64.0</td>\n",
       "      <td>51073.0</td>\n",
       "      <td>15.902727</td>\n",
       "      <td>109500.000045</td>\n",
       "      <td>41.00</td>\n",
       "      <td>35.46</td>\n",
       "      <td>-86.05</td>\n",
       "      <td>0.125311</td>\n",
       "    </tr>\n",
       "    <tr>\n",
       "      <th>7</th>\n",
       "      <td>etowah county</td>\n",
       "      <td>alabama</td>\n",
       "      <td>52.0</td>\n",
       "      <td>103132.0</td>\n",
       "      <td>17.614320</td>\n",
       "      <td>91299.999998</td>\n",
       "      <td>57.00</td>\n",
       "      <td>34.05</td>\n",
       "      <td>-86.05</td>\n",
       "      <td>0.050421</td>\n",
       "    </tr>\n",
       "    <tr>\n",
       "      <th>9</th>\n",
       "      <td>lee county</td>\n",
       "      <td>alabama</td>\n",
       "      <td>103.0</td>\n",
       "      <td>156597.0</td>\n",
       "      <td>21.157493</td>\n",
       "      <td>178599.999979</td>\n",
       "      <td>42.01</td>\n",
       "      <td>26.66</td>\n",
       "      <td>-81.95</td>\n",
       "      <td>0.065774</td>\n",
       "    </tr>\n",
       "    <tr>\n",
       "      <th>10</th>\n",
       "      <td>houston county</td>\n",
       "      <td>alabama</td>\n",
       "      <td>103.0</td>\n",
       "      <td>104108.0</td>\n",
       "      <td>18.279095</td>\n",
       "      <td>128400.000043</td>\n",
       "      <td>30.20</td>\n",
       "      <td>32.42</td>\n",
       "      <td>-83.63</td>\n",
       "      <td>0.098936</td>\n",
       "    </tr>\n",
       "    <tr>\n",
       "      <th>11</th>\n",
       "      <td>jefferson county</td>\n",
       "      <td>alabama</td>\n",
       "      <td>1958.0</td>\n",
       "      <td>659460.0</td>\n",
       "      <td>17.191035</td>\n",
       "      <td>109000.000012</td>\n",
       "      <td>45.00</td>\n",
       "      <td>39.58</td>\n",
       "      <td>-105.27</td>\n",
       "      <td>0.296910</td>\n",
       "    </tr>\n",
       "  </tbody>\n",
       "</table>\n",
       "</div>"
      ],
      "text/plain": [
       "              County    State  Homeless Pop  Population  Poverty Rate  \\\n",
       "4      coffee county  alabama          64.0     51073.0     15.902727   \n",
       "7      etowah county  alabama          52.0    103132.0     17.614320   \n",
       "9         lee county  alabama         103.0    156597.0     21.157493   \n",
       "10    houston county  alabama         103.0    104108.0     18.279095   \n",
       "11  jefferson county  alabama        1958.0    659460.0     17.191035   \n",
       "\n",
       "       Price_2018   Temp    lat     lng  Homeless Rate  \n",
       "4   109500.000045  41.00  35.46  -86.05       0.125311  \n",
       "7    91299.999998  57.00  34.05  -86.05       0.050421  \n",
       "9   178599.999979  42.01  26.66  -81.95       0.065774  \n",
       "10  128400.000043  30.20  32.42  -83.63       0.098936  \n",
       "11  109000.000012  45.00  39.58 -105.27       0.296910  "
      ]
     },
     "execution_count": 22,
     "metadata": {},
     "output_type": "execute_result"
    }
   ],
   "source": [
    "geo_plot_data=geo_plot_data.loc[geo_plot_data[\"Homeless Rate\"]>0,:]\n",
    "geo_plot_data.head()"
   ]
  },
  {
   "cell_type": "code",
   "execution_count": 23,
   "metadata": {},
   "outputs": [
    {
     "data": {
      "text/html": [
       "<div>\n",
       "<style scoped>\n",
       "    .dataframe tbody tr th:only-of-type {\n",
       "        vertical-align: middle;\n",
       "    }\n",
       "\n",
       "    .dataframe tbody tr th {\n",
       "        vertical-align: top;\n",
       "    }\n",
       "\n",
       "    .dataframe thead th {\n",
       "        text-align: right;\n",
       "    }\n",
       "</style>\n",
       "<table border=\"1\" class=\"dataframe\">\n",
       "  <thead>\n",
       "    <tr style=\"text-align: right;\">\n",
       "      <th></th>\n",
       "      <th>Homeless Pop</th>\n",
       "      <th>Population</th>\n",
       "      <th>Poverty Rate</th>\n",
       "      <th>Price_2018</th>\n",
       "      <th>Temp</th>\n",
       "      <th>lat</th>\n",
       "      <th>lng</th>\n",
       "      <th>Homeless Rate</th>\n",
       "    </tr>\n",
       "  </thead>\n",
       "  <tbody>\n",
       "    <tr>\n",
       "      <th>count</th>\n",
       "      <td>969.000000</td>\n",
       "      <td>9.690000e+02</td>\n",
       "      <td>969.000000</td>\n",
       "      <td>9.690000e+02</td>\n",
       "      <td>969.000000</td>\n",
       "      <td>969.000000</td>\n",
       "      <td>969.000000</td>\n",
       "      <td>969.000000</td>\n",
       "    </tr>\n",
       "    <tr>\n",
       "      <th>mean</th>\n",
       "      <td>704.083591</td>\n",
       "      <td>2.697216e+05</td>\n",
       "      <td>14.315934</td>\n",
       "      <td>1.944044e+05</td>\n",
       "      <td>48.049845</td>\n",
       "      <td>38.508958</td>\n",
       "      <td>-91.468060</td>\n",
       "      <td>0.218780</td>\n",
       "    </tr>\n",
       "    <tr>\n",
       "      <th>std</th>\n",
       "      <td>2126.511557</td>\n",
       "      <td>5.492992e+05</td>\n",
       "      <td>4.984613</td>\n",
       "      <td>1.327459e+05</td>\n",
       "      <td>15.936229</td>\n",
       "      <td>5.176648</td>\n",
       "      <td>15.716979</td>\n",
       "      <td>0.210805</td>\n",
       "    </tr>\n",
       "    <tr>\n",
       "      <th>min</th>\n",
       "      <td>3.000000</td>\n",
       "      <td>6.382000e+03</td>\n",
       "      <td>2.925666</td>\n",
       "      <td>2.150000e+04</td>\n",
       "      <td>14.590000</td>\n",
       "      <td>19.540000</td>\n",
       "      <td>-159.570000</td>\n",
       "      <td>0.004106</td>\n",
       "    </tr>\n",
       "    <tr>\n",
       "      <th>25%</th>\n",
       "      <td>61.000000</td>\n",
       "      <td>5.190600e+04</td>\n",
       "      <td>10.833990</td>\n",
       "      <td>1.179000e+05</td>\n",
       "      <td>35.010000</td>\n",
       "      <td>34.960000</td>\n",
       "      <td>-97.700000</td>\n",
       "      <td>0.083432</td>\n",
       "    </tr>\n",
       "    <tr>\n",
       "      <th>50%</th>\n",
       "      <td>163.000000</td>\n",
       "      <td>1.076990e+05</td>\n",
       "      <td>13.942620</td>\n",
       "      <td>1.591000e+05</td>\n",
       "      <td>43.000000</td>\n",
       "      <td>39.240000</td>\n",
       "      <td>-85.520000</td>\n",
       "      <td>0.169559</td>\n",
       "    </tr>\n",
       "    <tr>\n",
       "      <th>75%</th>\n",
       "      <td>522.000000</td>\n",
       "      <td>2.673900e+05</td>\n",
       "      <td>17.093008</td>\n",
       "      <td>2.258000e+05</td>\n",
       "      <td>64.400000</td>\n",
       "      <td>42.000000</td>\n",
       "      <td>-80.720000</td>\n",
       "      <td>0.286807</td>\n",
       "    </tr>\n",
       "    <tr>\n",
       "      <th>max</th>\n",
       "      <td>31673.000000</td>\n",
       "      <td>1.010572e+07</td>\n",
       "      <td>37.181018</td>\n",
       "      <td>1.310900e+06</td>\n",
       "      <td>79.000000</td>\n",
       "      <td>64.950000</td>\n",
       "      <td>-68.580000</td>\n",
       "      <td>2.232555</td>\n",
       "    </tr>\n",
       "  </tbody>\n",
       "</table>\n",
       "</div>"
      ],
      "text/plain": [
       "       Homeless Pop    Population  Poverty Rate    Price_2018        Temp  \\\n",
       "count    969.000000  9.690000e+02    969.000000  9.690000e+02  969.000000   \n",
       "mean     704.083591  2.697216e+05     14.315934  1.944044e+05   48.049845   \n",
       "std     2126.511557  5.492992e+05      4.984613  1.327459e+05   15.936229   \n",
       "min        3.000000  6.382000e+03      2.925666  2.150000e+04   14.590000   \n",
       "25%       61.000000  5.190600e+04     10.833990  1.179000e+05   35.010000   \n",
       "50%      163.000000  1.076990e+05     13.942620  1.591000e+05   43.000000   \n",
       "75%      522.000000  2.673900e+05     17.093008  2.258000e+05   64.400000   \n",
       "max    31673.000000  1.010572e+07     37.181018  1.310900e+06   79.000000   \n",
       "\n",
       "              lat         lng  Homeless Rate  \n",
       "count  969.000000  969.000000     969.000000  \n",
       "mean    38.508958  -91.468060       0.218780  \n",
       "std      5.176648   15.716979       0.210805  \n",
       "min     19.540000 -159.570000       0.004106  \n",
       "25%     34.960000  -97.700000       0.083432  \n",
       "50%     39.240000  -85.520000       0.169559  \n",
       "75%     42.000000  -80.720000       0.286807  \n",
       "max     64.950000  -68.580000       2.232555  "
      ]
     },
     "execution_count": 23,
     "metadata": {},
     "output_type": "execute_result"
    }
   ],
   "source": [
    "geo_plot_data=geo_plot_data.dropna()\n",
    "geo_plot_data.describe()"
   ]
  },
  {
   "cell_type": "code",
   "execution_count": 24,
   "metadata": {},
   "outputs": [],
   "source": [
    "# Configure gmaps\n",
    "gmaps.configure(api_key=gkey)\n",
    "# Store 'Lat' and 'Lng' into  locations \n",
    "locations = geo_plot_data[[\"lat\", \"lng\"]].astype(float)\n",
    "\n",
    "# Convert Poverty Rate to float and store\n",
    "poverty_rate = geo_plot_data[\"Poverty Rate\"].astype(float)\n",
    "\n",
    "# Create a poverty Heatmap layer\n",
    "\n",
    "\n",
    "p_heat_layer = gmaps.heatmap_layer(locations, weights=poverty_rate, dissipating=False, max_intensity=100,point_radius = 1)\n",
    "\n",
    "# Adjust heat_layer setting to help with heatmap dissipating on zoom\n",
    "p_heat_layer.dissipating = False\n",
    "p_heat_layer.max_intensity = 100\n",
    "p_heat_layer.point_radius = 1"
   ]
  },
  {
   "cell_type": "code",
   "execution_count": 25,
   "metadata": {},
   "outputs": [],
   "source": [
    "homeless_rate=(geo_plot_data[\"Homeless Rate\"]/.15+1).astype(\"int64\").tolist()\n",
    "house_prices=(geo_plot_data[\"Price_2018\"]/160000+1).astype(\"int64\").tolist()\n",
    "temp=(geo_plot_data[\"Temp\"]/43+1).astype(\"int64\").tolist()"
   ]
  },
  {
   "cell_type": "code",
   "execution_count": 26,
   "metadata": {},
   "outputs": [],
   "source": [
    "# Convert Poverty Rate to float and store\n",
    "#homeless_count = merge_table_all[\"Homeless Pop\"].tolist()\n",
    "homeless_layer = gmaps.symbol_layer(\n",
    "    locations, fill_color='rgba(0, 0, 0, 0)',\n",
    "    stroke_color='rgba(0, 0, 0, .4)', scale=homeless_rate)\n",
    "\n",
    "house_prices_layer = gmaps.symbol_layer(\n",
    "    locations, fill_color='rgba(0, 0, 0, 0)',\n",
    "    stroke_color='rgba(0, 0, 0, 0.4)', scale=house_prices)\n",
    "\n",
    "temp_layer=gmaps.symbol_layer(\n",
    "    locations, fill_color='rgba(0,0,0,0)',\n",
    "    stroke_color='rgba(0,0,0,.4)',scale=temp)"
   ]
  },
  {
   "cell_type": "markdown",
   "metadata": {},
   "source": [
    "# Poverty/Homelessness GeoMap"
   ]
  },
  {
   "cell_type": "code",
   "execution_count": 28,
   "metadata": {},
   "outputs": [
    {
     "data": {
      "application/vnd.jupyter.widget-view+json": {
       "model_id": "388614994c554cecafa695266278b21c",
       "version_major": 2,
       "version_minor": 0
      },
      "text/plain": [
       "Figure(layout=FigureLayout(height='420px'))"
      ]
     },
     "metadata": {},
     "output_type": "display_data"
    }
   ],
   "source": [
    "fig = gmaps.figure()\n",
    "fig.add_layer(p_heat_layer)\n",
    "fig.add_layer(homeless_layer)\n",
    "fig"
   ]
  },
  {
   "cell_type": "markdown",
   "metadata": {},
   "source": [
    "# House Prices/Homelessness GeoMap"
   ]
  },
  {
   "cell_type": "code",
   "execution_count": 29,
   "metadata": {},
   "outputs": [
    {
     "data": {
      "application/vnd.jupyter.widget-view+json": {
       "model_id": "355c111ba4ca4dabbfcd84e4e5fe9521",
       "version_major": 2,
       "version_minor": 0
      },
      "text/plain": [
       "Figure(layout=FigureLayout(height='420px'))"
      ]
     },
     "metadata": {},
     "output_type": "display_data"
    }
   ],
   "source": [
    "fig = gmaps.figure()\n",
    "fig.add_layer(p_heat_layer)\n",
    "fig.add_layer(house_prices_layer)\n",
    "fig"
   ]
  },
  {
   "cell_type": "markdown",
   "metadata": {},
   "source": [
    "# Temperature/Homelessness GeoMap"
   ]
  },
  {
   "cell_type": "code",
   "execution_count": 30,
   "metadata": {},
   "outputs": [
    {
     "data": {
      "application/vnd.jupyter.widget-view+json": {
       "model_id": "b05ca737d6d1498c9d71a12bcc3a741e",
       "version_major": 2,
       "version_minor": 0
      },
      "text/plain": [
       "Figure(layout=FigureLayout(height='420px'))"
      ]
     },
     "metadata": {},
     "output_type": "display_data"
    }
   ],
   "source": [
    "fig = gmaps.figure()\n",
    "fig.add_layer(p_heat_layer)\n",
    "fig.add_layer(temp_layer)\n",
    "fig"
   ]
  },
  {
   "cell_type": "code",
   "execution_count": null,
   "metadata": {},
   "outputs": [],
   "source": []
  }
 ],
 "metadata": {
  "kernelspec": {
   "display_name": "Python 3",
   "language": "python",
   "name": "python3"
  },
  "language_info": {
   "codemirror_mode": {
    "name": "ipython",
    "version": 3
   },
   "file_extension": ".py",
   "mimetype": "text/x-python",
   "name": "python",
   "nbconvert_exporter": "python",
   "pygments_lexer": "ipython3",
   "version": "3.7.0"
  }
 },
 "nbformat": 4,
 "nbformat_minor": 2
}
